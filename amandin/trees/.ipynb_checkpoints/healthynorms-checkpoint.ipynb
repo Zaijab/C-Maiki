{
 "cells": [
  {
   "cell_type": "code",
   "execution_count": 1,
   "metadata": {
    "autoscroll": false,
    "collapsed": false,
    "ein.hycell": false,
    "ein.tags": "worksheet-0",
    "slideshow": {
     "slide_type": "-"
    }
   },
   "outputs": [
    {
     "ename": "SyntaxError",
     "evalue": "invalid syntax (<ipython-input-1-b3b5df3b5baa>, line 1)",
     "output_type": "error",
     "traceback": [
      "\u001b[0;36m  File \u001b[0;32m\"<ipython-input-1-b3b5df3b5baa>\"\u001b[0;36m, line \u001b[0;32m1\u001b[0m\n\u001b[0;31m    (+ 2 2)\u001b[0m\n\u001b[0m         ^\u001b[0m\n\u001b[0;31mSyntaxError\u001b[0m\u001b[0;31m:\u001b[0m invalid syntax\n"
     ]
    }
   ],
   "source": [
    "(+ 2 2)"
   ]
  }
 ],
 "metadata": {
  "kernelspec": {
   "argv": [
    "sbcl",
    "--non-interactive",
    "--load",
    "/home/zjabbar/.config/quicklisp/local-projects/cl-jupyter/cl-jupyter.lisp",
    "/home/zjabbar/.config/quicklisp/local-projects/cl-jupyter/src",
    "/home/zjabbar/.config/quicklisp/local-projects/cl-jupyter",
    "{connection_file}"
   ],
   "display_name": "SBCL Lisp",
   "env": null,
   "interrupt_mode": "signal",
   "language": "lisp",
   "metadata": null,
   "name": "lisp"
  },
  "name": "Untitled.ipynb"
 },
 "nbformat": 4,
 "nbformat_minor": 2
}
