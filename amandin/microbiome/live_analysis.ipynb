{
 "cells": [
  {
   "cell_type": "code",
   "execution_count": 1,
   "metadata": {},
   "outputs": [],
   "source": [
    "%matplotlib ipympl\n",
    "\n",
    "from scipy.spatial.distance import pdist, squareform\n",
    "from scipy.sparse.linalg import eigs, eigsh\n",
    "import numpy as np\n",
    "import pandas as pd\n",
    "import matplotlib.pyplot as plt\n",
    "from mpl_toolkits.mplot3d import Axes3D\n",
    "from matplotlib.lines import Line2D"
   ]
  },
  {
   "cell_type": "code",
   "execution_count": 2,
   "metadata": {},
   "outputs": [],
   "source": [
    "# Run analysis on all samples"
   ]
  },
  {
   "cell_type": "code",
   "execution_count": 3,
   "metadata": {},
   "outputs": [],
   "source": [
    "# File Paths\n",
    "data_path = \"./data\"\n",
    "figure_path = \"./plots\"\n",
    "abundance_table_path = f\"{data_path}/abundance_table_97.shared\"\n",
    "metadata_path = f\"{data_path}/SuperTransect_mapping_file.csv\""
   ]
  },
  {
   "cell_type": "code",
   "execution_count": 4,
   "metadata": {},
   "outputs": [],
   "source": [
    "# Abundance Table\n",
    "with open(abundance_table_path, \"r\") as file_literal:\n",
    "    raw_abundance_data = [line.strip().split(\"\\t\") for line in file_literal]\n",
    "    otu_names = raw_abundance_data[0][3:]\n",
    "    sample_names = list(map(int, [line[1] for line in raw_abundance_data[1:]]))\n",
    "    otu_counts = [line[3:] for line in raw_abundance_data[1:]]\n",
    "abundance_table = pd.DataFrame(\n",
    "    np.array(otu_counts, dtype=np.int64),\n",
    "    index=sample_names,\n",
    "    columns=otu_names)\n",
    "abundance_table[\"Abundance\"] = abundance_table.sum(axis=1)\n",
    "abundance_table[\"Presence\"] = abundance_table.drop(\"Abundance\", axis=1).where(\n",
    "    abundance_table == 0, 1).sum(axis=1)\n",
    "\n",
    "# Metadata\n",
    "metadata = pd.read_csv(metadata_path, index_col=0)"
   ]
  },
  {
   "cell_type": "code",
   "execution_count": 5,
   "metadata": {},
   "outputs": [],
   "source": [
    "# Analysis function\n",
    "def abundance_to_eigenvector(filtered_abundance_table, debug=False, pandas_mode=False):\n",
    "    adjacency_matrix = squareform(pdist(filtered_abundance_table, metric=\"minkowski\", p=1))\n",
    "    kernel = np.exp(- (adjacency_matrix ** 2) / (3000**2))\n",
    "    diagonal = np.diag(np.sum(kernel,axis=1))\n",
    "    laplacian = diagonal - kernel\n",
    "    eigenvalues, eigenvectors = eigs(laplacian, k=len(laplacian) - 1, M=diagonal)\n",
    "    sample_eigens = zip(eigenvalues.real, eigenvectors.T, filtered_abundance_table.index)\n",
    "    eigenvalues, eigenvectors, sample_ids = zip(*sorted(sample_eigens, key = lambda tup:tup[0]))\n",
    "\n",
    "    if debug:\n",
    "        print(\"Adjacency Matrix:\\n\", adjacency_matrix, \"\\n\")\n",
    "        print(\"Kernel:\\n\", kernel, \"\\n\")\n",
    "        print(\"Diagonal:\\n\", diagonal, \"\\n\")\n",
    "        print(\"Laplacian:\\n\", laplacian, \"\\n\")\n",
    "        print(\"Eigenvalues:\\n\", eigenvalues, \"\\n\")\n",
    "        print(\"Eigenvectors:\\n\", eigenvectors, \"\\n\")\n",
    "        print(\"Sample ID's:\\n\", sample_ids, \"\\n\")\n",
    "    \n",
    "    if pandas_mode:\n",
    "        return pd.DataFrame(eigenvectors, columns = filtered_abundance_table.index), filtered_abundance_table.index\n",
    "    \n",
    "    return eigenvectors, filtered_abundance_table.index"
   ]
  },
  {
   "cell_type": "code",
   "execution_count": 10,
   "metadata": {},
   "outputs": [],
   "source": [
    "# Plotting function\n",
    "def eigenvector_to_plot(eigenvectors, metadata, title, text = None, color_descriptor = \"gps\"):\n",
    "    fig = plt.figure()\n",
    "    ax = fig.add_subplot(111, projection='3d')\n",
    "    ax.set_xlabel('X axis')\n",
    "    ax.set_ylabel('Y axis')\n",
    "    ax.set_zlabel('Z axis')\n",
    "    if text == None and color_descriptor == None:\n",
    "        ax.scatter3D(eigenvectors[1], eigenvectors[2], eigenvectors[3])\n",
    "    if text != None:\n",
    "        for label, x, y, z in zip(text, eigenvectors[1], eigenvectors[2], eigenvectors[3]):\n",
    "            ax.text(x, y, z, label, None)\n",
    "    if color_descriptor == \"gps\":\n",
    "        location_number = metadata[\"lat\"] + metadata[\"long\"]\n",
    "        color_number = (location_number - min(location_number)) / (max(location_number) - min(location_number))\n",
    "        colors = [(0, color, 0) for color in color_number]\n",
    "        for color, x, y, z in zip(colors, eigenvectors[1], eigenvectors[2], eigenvectors[3]):\n",
    "            ax.scatter(x, y, z, color=color)\n",
    "        custom_lines = [Line2D([0], [0], color=(0, 1, 0), lw=4),\n",
    "                        Line2D([0], [0], color=(0, 0, 0), lw=4)]\n",
    "        ax.legend(custom_lines, ['Upper Left', 'Lower Right'], loc =\"center left\", bbox_to_anchor=(-.1, 0))\n",
    "    elif color_descriptor != None:\n",
    "        for color, x, y, z in zip(color_descriptor, eigenvectors[1], eigenvectors[2], eigenvectors[3]):\n",
    "            ax.scatter(x, y, z, c=color)\n",
    "    plt.title(title)\n",
    "    plt.show()\n",
    "    plt.savefig(f\"{figure_path}/{title}.png\")"
   ]
  },
  {
   "cell_type": "code",
   "execution_count": 7,
   "metadata": {},
   "outputs": [],
   "source": [
    "# Filtering function\n",
    "def filtered_data(key, filterer, dropper = None):\n",
    "    filtered_metadata = metadata.loc[metadata[key] == filterer]\n",
    "    if dropper == None:\n",
    "        filtered_abundance = abundance_table.filter(\n",
    "            items=list(filtered_metadata.index), axis=0).drop([\"Abundance\", \"Presence\"],axis=1)\n",
    "    if dropper != None:\n",
    "        filtered_abundance = abundance_table.filter(\n",
    "            items=list(filtered_metadata.index), axis=0).drop([\"Abundance\", \"Presence\"],axis=1).drop(dropper, axis=0)\n",
    "    filtered_metadata = filtered_metadata.loc[filtered_abundance.index]\n",
    "    return filtered_abundance, filtered_metadata"
   ]
  },
  {
   "cell_type": "code",
   "execution_count": 8,
   "metadata": {},
   "outputs": [
    {
     "name": "stderr",
     "output_type": "stream",
     "text": [
      "/home/zjabbar/.local/lib/python3.8/site-packages/scipy/sparse/linalg/eigen/arpack/arpack.py:1267: RuntimeWarning: k >= N - 1 for N * N square matrix. Attempting to use scipy.linalg.eig instead.\n",
      "  warnings.warn(\"k >= N - 1 for N * N square matrix. \"\n"
     ]
    },
    {
     "data": {
      "application/vnd.jupyter.widget-view+json": {
       "model_id": "ac457eb11e8648f38ce3daf6a13c05cc",
       "version_major": 2,
       "version_minor": 0
      },
      "text/plain": [
       "Canvas(toolbar=Toolbar(toolitems=[('Home', 'Reset original view', 'home', 'home'), ('Back', 'Back to previous …"
      ]
     },
     "metadata": {},
     "output_type": "display_data"
    }
   ],
   "source": [
    "# Filtering Based on Drosophila\n",
    "filtered_abundance, filtered_metadata  = filtered_data(\"sample_type\", \"Drosophila\")\n",
    "eigenvectors, filtered_abundance_index = abundance_to_eigenvector(filtered_abundance, pandas_mode = True)\n",
    "eigenvector_to_plot(eigenvectors.to_numpy(), filtered_metadata, \"Drosophila Generalized Eigenvectors\")"
   ]
  },
  {
   "cell_type": "code",
   "execution_count": 9,
   "metadata": {},
   "outputs": [
    {
     "name": "stderr",
     "output_type": "stream",
     "text": [
      "/home/zjabbar/.local/lib/python3.8/site-packages/scipy/sparse/linalg/eigen/arpack/arpack.py:1267: RuntimeWarning: k >= N - 1 for N * N square matrix. Attempting to use scipy.linalg.eig instead.\n",
      "  warnings.warn(\"k >= N - 1 for N * N square matrix. \"\n"
     ]
    },
    {
     "ename": "TypeError",
     "evalue": "eigenvector_to_plot() missing 1 required positional argument: 'title'",
     "output_type": "error",
     "traceback": [
      "\u001b[0;31m---------------------------------------------------------------------------\u001b[0m",
      "\u001b[0;31mTypeError\u001b[0m                                 Traceback (most recent call last)",
      "\u001b[0;32m<ipython-input-9-cda6b558ad9b>\u001b[0m in \u001b[0;36m<module>\u001b[0;34m\u001b[0m\n\u001b[1;32m      2\u001b[0m \u001b[0mfiltered_abundance\u001b[0m\u001b[0;34m,\u001b[0m \u001b[0mfiltered_metadata\u001b[0m  \u001b[0;34m=\u001b[0m \u001b[0mfiltered_data\u001b[0m\u001b[0;34m(\u001b[0m\u001b[0;34m\"sample_type\"\u001b[0m\u001b[0;34m,\u001b[0m \u001b[0;34m\"Coral\"\u001b[0m\u001b[0;34m)\u001b[0m\u001b[0;34m\u001b[0m\u001b[0;34m\u001b[0m\u001b[0m\n\u001b[1;32m      3\u001b[0m \u001b[0meigenvectors\u001b[0m\u001b[0;34m,\u001b[0m \u001b[0mfiltered_abundance_index\u001b[0m \u001b[0;34m=\u001b[0m \u001b[0mabundance_to_eigenvector\u001b[0m\u001b[0;34m(\u001b[0m\u001b[0mfiltered_abundance\u001b[0m\u001b[0;34m,\u001b[0m \u001b[0mpandas_mode\u001b[0m \u001b[0;34m=\u001b[0m \u001b[0;32mTrue\u001b[0m\u001b[0;34m)\u001b[0m\u001b[0;34m\u001b[0m\u001b[0;34m\u001b[0m\u001b[0m\n\u001b[0;32m----> 4\u001b[0;31m \u001b[0meigenvector_to_plot\u001b[0m\u001b[0;34m(\u001b[0m\u001b[0meigenvectors\u001b[0m\u001b[0;34m.\u001b[0m\u001b[0mto_numpy\u001b[0m\u001b[0;34m(\u001b[0m\u001b[0;34m)\u001b[0m\u001b[0;34m,\u001b[0m \u001b[0;34m\"Coral Generalized Eigenvectors\"\u001b[0m\u001b[0;34m,\u001b[0m \u001b[0mcolor_descriptor\u001b[0m\u001b[0;34m=\u001b[0m\u001b[0;34m\"gps\"\u001b[0m\u001b[0;34m)\u001b[0m\u001b[0;34m\u001b[0m\u001b[0;34m\u001b[0m\u001b[0m\n\u001b[0m",
      "\u001b[0;31mTypeError\u001b[0m: eigenvector_to_plot() missing 1 required positional argument: 'title'"
     ]
    }
   ],
   "source": [
    "# Filtering Based on Coral\n",
    "filtered_abundance, filtered_metadata  = filtered_data(\"sample_type\", \"Coral\")\n",
    "eigenvectors, filtered_abundance_index = abundance_to_eigenvector(filtered_abundance, pandas_mode = True)\n",
    "eigenvector_to_plot(eigenvectors.to_numpy(), filtered_metadata, \"Coral Generalized Eigenvectors\")"
   ]
  },
  {
   "cell_type": "code",
   "execution_count": null,
   "metadata": {},
   "outputs": [],
   "source": [
    "# Filtering Based on Mosquito\n",
    "filtered_abundance, filtered_metadata  = filtered_data(\"sample_type\", \"Mosquito\")\n",
    "eigenvectors, filtered_abundance_index = abundance_to_eigenvector(filtered_abundance, pandas_mode = True)\n",
    "eigenvector_to_plot(eigenvectors.to_numpy(), filtered_metadata, \"Mosquito Generalized Eigenvectors\")"
   ]
  },
  {
   "cell_type": "code",
   "execution_count": null,
   "metadata": {},
   "outputs": [],
   "source": [
    "# Filtering Based on Mosquito\n",
    "filtered_abundance, filtered_metadata  = filtered_data(\"sample_type\", \"Mosquito\", dropper = [105279, 105525, 105502])\n",
    "eigenvectors, filtered_abundance_index = abundance_to_eigenvector(filtered_abundance, pandas_mode = True)\n",
    "eigenvector_to_plot(eigenvectors.to_numpy(), filtered_metadata, \"Mosquito Generalized Eigenvectors Dropped 3\")"
   ]
  }
 ],
 "metadata": {
  "kernelspec": {
   "display_name": "Python 3",
   "language": "python",
   "name": "python3"
  },
  "language_info": {
   "codemirror_mode": {
    "name": "ipython",
    "version": 3
   },
   "file_extension": ".py",
   "mimetype": "text/x-python",
   "name": "python",
   "nbconvert_exporter": "python",
   "pygments_lexer": "ipython3",
   "version": "3.8.3"
  },
  "widgets": {
   "application/vnd.jupyter.widget-state+json": {
    "state": {
     "0e33ea9abaf64ecc9a31c154e50e738e": {
      "model_module": "jupyter-matplotlib",
      "model_module_version": "^0.7.2",
      "model_name": "ToolbarModel",
      "state": {
       "layout": "IPY_MODEL_d5d2379b2a644df6b32c0f239ca8f23d",
       "toolitems": [
        [
         "Home",
         "Reset original view",
         "home",
         "home"
        ],
        [
         "Back",
         "Back to previous view",
         "arrow-left",
         "back"
        ],
        [
         "Forward",
         "Forward to next view",
         "arrow-right",
         "forward"
        ],
        [
         "Pan",
         "Pan axes with left mouse, zoom with right",
         "arrows",
         "pan"
        ],
        [
         "Zoom",
         "Zoom to rectangle",
         "square-o",
         "zoom"
        ],
        [
         "Download",
         "Download plot",
         "floppy-o",
         "save_figure"
        ]
       ]
      }
     },
     "ac457eb11e8648f38ce3daf6a13c05cc": {
      "model_module": "jupyter-matplotlib",
      "model_module_version": "^0.7.2",
      "model_name": "MPLCanvasModel",
      "state": {
       "layout": "IPY_MODEL_f4392369c38141a5a0a215d475876092",
       "toolbar": "IPY_MODEL_0e33ea9abaf64ecc9a31c154e50e738e",
       "toolbar_position": "left"
      }
     },
     "d5d2379b2a644df6b32c0f239ca8f23d": {
      "model_module": "@jupyter-widgets/base",
      "model_module_version": "1.2.0",
      "model_name": "LayoutModel",
      "state": {}
     },
     "f4392369c38141a5a0a215d475876092": {
      "model_module": "@jupyter-widgets/base",
      "model_module_version": "1.2.0",
      "model_name": "LayoutModel",
      "state": {}
     }
    },
    "version_major": 2,
    "version_minor": 0
   }
  }
 },
 "nbformat": 4,
 "nbformat_minor": 4
}
