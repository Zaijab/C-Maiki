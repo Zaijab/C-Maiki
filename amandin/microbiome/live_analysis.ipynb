{
 "cells": [
  {
   "cell_type": "code",
   "execution_count": 1,
   "metadata": {},
   "outputs": [],
   "source": [
    "%matplotlib ipympl\n",
    "\n",
    "from scipy.spatial.distance import pdist, squareform\n",
    "from scipy.sparse.linalg import eigs, eigsh\n",
    "import numpy as np\n",
    "import pandas as pd\n",
    "import matplotlib.pyplot as plt\n",
    "from mpl_toolkits.mplot3d import Axes3D\n",
    "from matplotlib.lines import Line2D"
   ]
  },
  {
   "cell_type": "code",
   "execution_count": 2,
   "metadata": {},
   "outputs": [],
   "source": [
    "# Run analysis on all samples"
   ]
  },
  {
   "cell_type": "code",
   "execution_count": 3,
   "metadata": {},
   "outputs": [],
   "source": [
    "# File Paths\n",
    "data_path = \"./data\"\n",
    "figure_path = \"./plots\"\n",
    "abundance_table_path = f\"{data_path}/abundance_table_97.shared\"\n",
    "metadata_path = f\"{data_path}/SuperTransect_mapping_file.csv\""
   ]
  },
  {
   "cell_type": "code",
   "execution_count": 4,
   "metadata": {},
   "outputs": [],
   "source": [
    "# Abundance Table\n",
    "with open(abundance_table_path, \"r\") as file_literal:\n",
    "    raw_abundance_data = [line.strip().split(\"\\t\") for line in file_literal]\n",
    "    otu_names = raw_abundance_data[0][3:]\n",
    "    sample_names = list(map(int, [line[1] for line in raw_abundance_data[1:]]))\n",
    "    otu_counts = [line[3:] for line in raw_abundance_data[1:]]\n",
    "abundance_table = pd.DataFrame(\n",
    "    np.array(otu_counts, dtype=np.int64),\n",
    "    index=sample_names,\n",
    "    columns=otu_names)\n",
    "abundance_table[\"Abundance\"] = abundance_table.sum(axis=1)\n",
    "abundance_table[\"Presence\"] = abundance_table.drop(\"Abundance\", axis=1).where(\n",
    "    abundance_table == 0, 1).sum(axis=1)\n",
    "\n",
    "# Metadata\n",
    "metadata = pd.read_csv(metadata_path, index_col=0)"
   ]
  },
  {
   "cell_type": "code",
   "execution_count": 5,
   "metadata": {},
   "outputs": [],
   "source": [
    "# Analysis function\n",
    "def abundance_to_eigenvector(filtered_abundance_table, debug=False, pandas_mode=False):\n",
    "    adjacency_matrix = squareform(pdist(filtered_abundance_table, metric=\"minkowski\", p=1))\n",
    "    kernel = np.exp(- (adjacency_matrix ** 2) / (3000**2))\n",
    "    diagonal = np.diag(np.sum(kernel,axis=1))\n",
    "    laplacian = diagonal - kernel\n",
    "    eigenvalues, eigenvectors = eigs(laplacian, k=len(laplacian) - 1, M=diagonal)\n",
    "    sample_eigens = zip(eigenvalues.real, eigenvectors.T, filtered_abundance_table.index)\n",
    "    eigenvalues, eigenvectors, sample_ids = zip(*sorted(sample_eigens, key = lambda tup:tup[0]))\n",
    "\n",
    "    if debug:\n",
    "        print(\"Adjacency Matrix:\\n\", adjacency_matrix, \"\\n\")\n",
    "        print(\"Kernel:\\n\", kernel, \"\\n\")\n",
    "        print(\"Diagonal:\\n\", diagonal, \"\\n\")\n",
    "        print(\"Laplacian:\\n\", laplacian, \"\\n\")\n",
    "        print(\"Eigenvalues:\\n\", eigenvalues, \"\\n\")\n",
    "        print(\"Eigenvectors:\\n\", eigenvectors, \"\\n\")\n",
    "        print(\"Sample ID's:\\n\", sample_ids, \"\\n\")\n",
    "    \n",
    "    if pandas_mode:\n",
    "        return pd.DataFrame(eigenvectors, columns = filtered_abundance_table.index), filtered_abundance_table.index\n",
    "    \n",
    "    return eigenvectors, filtered_abundance_table.index, eigenvalues"
   ]
  },
  {
   "cell_type": "code",
   "execution_count": 6,
   "metadata": {},
   "outputs": [],
   "source": [
    "# Plotting function\n",
    "def eigenvector_to_plot(eigenvectors, metadata, title, text = None, color_descriptor = \"gps\"):\n",
    "    fig = plt.figure()\n",
    "    ax = fig.add_subplot(111, projection='3d')\n",
    "    ax.set_xlabel('X axis')\n",
    "    ax.set_ylabel('Y axis')\n",
    "    ax.set_zlabel('Z axis')\n",
    "    labels = eigenvectors.columns\n",
    "    eigenvectors = eigenvectors.to_numpy()\n",
    "    \n",
    "    if text == None and color_descriptor == None:\n",
    "        ax.scatter3D(eigenvectors[1], eigenvectors[2], eigenvectors[3])\n",
    "    if text == \"samples\":\n",
    "        for label, x, y, z in zip(labels, eigenvectors[1], eigenvectors[2], eigenvectors[3]):\n",
    "            ax.text(x, y, z, label, None)\n",
    "    if color_descriptor == \"gps\":\n",
    "        location_number = metadata[\"lat\"] + metadata[\"long\"]\n",
    "        color_number = (location_number - min(location_number)) / (max(location_number) - min(location_number))\n",
    "        colors = [(0, color, 0) for color in color_number]\n",
    "        for color, x, y, z in zip(colors, eigenvectors[1], eigenvectors[2], eigenvectors[3]):\n",
    "            ax.scatter(x, y, z, color=color)\n",
    "        custom_lines = [Line2D([0], [0], color=(0, 1, 0), lw=4),\n",
    "                        Line2D([0], [0], color=(0, 0, 0), lw=4)]\n",
    "        ax.legend(custom_lines, ['Close to Shore', 'Far from Shore'], loc =\"center left\", bbox_to_anchor=(-.1, 0))\n",
    "    elif color_descriptor == \"standard\":\n",
    "        for label, x, y, z in zip(labels, eigenvectors[1], eigenvectors[2], eigenvectors[3]):\n",
    "            if metadata.loc[label][\"host\"] == \"Animal\" and metadata.loc[label][\"habitat\"] == \"Marine\":\n",
    "                ax.scatter(x,y,z,c=\"C0\", marker=\".\")\n",
    "            if metadata.loc[label][\"host\"] == \"Animal\" and metadata.loc[label][\"habitat\"] == \"Riverine\":\n",
    "                ax.scatter(x,y,z,c=\"C1\", marker=\".\")\n",
    "            if metadata.loc[label][\"host\"] == \"Animal\" and metadata.loc[label][\"habitat\"] == \"Terrestrial\":\n",
    "                ax.scatter(x,y,z,c=\"C2\", marker=\".\")\n",
    "            if metadata.loc[label][\"host\"] == \"Nonhost\" and metadata.loc[label][\"habitat\"] == \"Marine\":\n",
    "                ax.scatter(x,y,z,c=\"C0\", marker=\"^\")\n",
    "            if metadata.loc[label][\"host\"] == \"Nonhost\" and metadata.loc[label][\"habitat\"] == \"Riverine\":\n",
    "                ax.scatter(x,y,z,c=\"C1\", marker=\"^\")\n",
    "            if metadata.loc[label][\"host\"] == \"Nonhost\" and metadata.loc[label][\"habitat\"] == \"Terrestrial\":\n",
    "                ax.scatter(x,y,z,c=\"C2\", marker=\"^\")\n",
    "            if metadata.loc[label][\"host\"] == \"Plant\" and metadata.loc[label][\"habitat\"] == \"Marine\":\n",
    "                ax.scatter(x,y,z,c=\"C0\", marker=\"s\")\n",
    "            if metadata.loc[label][\"host\"] == \"Plant\" and metadata.loc[label][\"habitat\"] == \"Riverine\":\n",
    "                ax.scatter(x,y,z,c=\"C1\", marker=\"s\")\n",
    "            if metadata.loc[label][\"host\"] == \"Plant\" and metadata.loc[label][\"habitat\"] == \"Terrestrial\":\n",
    "                ax.scatter(x,y,z,c=\"C2\", marker=\"s\")\n",
    "    elif color_descriptor != None:\n",
    "        for color, x, y, z in zip(color_descriptor, eigenvectors[1], eigenvectors[2], eigenvectors[3]):\n",
    "            ax.scatter(x, y, z, c=color)\n",
    "    plt.title(title)\n",
    "    plt.show()\n",
    "    plt.savefig(f\"{figure_path}/{title}.png\")"
   ]
  },
  {
   "cell_type": "code",
   "execution_count": null,
   "metadata": {},
   "outputs": [],
   "source": []
  },
  {
   "cell_type": "code",
   "execution_count": 7,
   "metadata": {},
   "outputs": [],
   "source": [
    "# Filtering function\n",
    "def filtered_data(key, filterer, dropper = None):\n",
    "    filtered_metadata = metadata.loc[metadata[key] == filterer]\n",
    "    if dropper == None:\n",
    "        filtered_abundance = abundance_table.filter(\n",
    "            items=list(filtered_metadata.index), axis=0).drop([\"Abundance\", \"Presence\"],axis=1)\n",
    "    if dropper != None:\n",
    "        filtered_abundance = abundance_table.filter(\n",
    "            items=list(filtered_metadata.index), axis=0).drop([\"Abundance\", \"Presence\"],axis=1).drop(dropper, axis=0)\n",
    "    filtered_metadata = filtered_metadata.loc[filtered_abundance.index]\n",
    "    return filtered_abundance, filtered_metadata"
   ]
  },
  {
   "cell_type": "code",
   "execution_count": 8,
   "metadata": {},
   "outputs": [
    {
     "name": "stderr",
     "output_type": "stream",
     "text": [
      "/home/zjabbar/.local/lib/python3.8/site-packages/scipy/sparse/linalg/eigen/arpack/arpack.py:1267: RuntimeWarning: k >= N - 1 for N * N square matrix. Attempting to use scipy.linalg.eig instead.\n",
      "  warnings.warn(\"k >= N - 1 for N * N square matrix. \"\n"
     ]
    },
    {
     "data": {
      "application/vnd.jupyter.widget-view+json": {
       "model_id": "586594ff1b644e5cbe463abd7756c8b8",
       "version_major": 2,
       "version_minor": 0
      },
      "text/plain": [
       "Canvas(toolbar=Toolbar(toolitems=[('Home', 'Reset original view', 'home', 'home'), ('Back', 'Back to previous …"
      ]
     },
     "metadata": {},
     "output_type": "display_data"
    }
   ],
   "source": [
    "# Filtering Based on Drosophila\n",
    "filtered_abundance, filtered_metadata  = filtered_data(\"sample_type\", \"Drosophila\")\n",
    "eigenvectors, filtered_abundance_index = abundance_to_eigenvector(filtered_abundance, pandas_mode = True)\n",
    "eigenvector_to_plot(eigenvectors, filtered_metadata, \"Drosophila Generalized Eigenvectors\")"
   ]
  },
  {
   "cell_type": "code",
   "execution_count": 9,
   "metadata": {},
   "outputs": [
    {
     "name": "stderr",
     "output_type": "stream",
     "text": [
      "/home/zjabbar/.local/lib/python3.8/site-packages/scipy/sparse/linalg/eigen/arpack/arpack.py:1267: RuntimeWarning: k >= N - 1 for N * N square matrix. Attempting to use scipy.linalg.eig instead.\n",
      "  warnings.warn(\"k >= N - 1 for N * N square matrix. \"\n"
     ]
    },
    {
     "data": {
      "application/vnd.jupyter.widget-view+json": {
       "model_id": "83bb0ee4201240d2be623a11b8d14ce7",
       "version_major": 2,
       "version_minor": 0
      },
      "text/plain": [
       "Canvas(toolbar=Toolbar(toolitems=[('Home', 'Reset original view', 'home', 'home'), ('Back', 'Back to previous …"
      ]
     },
     "metadata": {},
     "output_type": "display_data"
    }
   ],
   "source": [
    "# Filtering Based on Coral\n",
    "filtered_abundance, filtered_metadata  = filtered_data(\"sample_type\", \"Coral\")\n",
    "eigenvectors, filtered_abundance_index = abundance_to_eigenvector(filtered_abundance, pandas_mode = True)\n",
    "eigenvector_to_plot(eigenvectors, filtered_metadata, \"Coral Generalized Eigenvectors\", text=\"samples\")"
   ]
  },
  {
   "cell_type": "code",
   "execution_count": 11,
   "metadata": {},
   "outputs": [
    {
     "name": "stderr",
     "output_type": "stream",
     "text": [
      "/home/zjabbar/.local/lib/python3.8/site-packages/scipy/sparse/linalg/eigen/arpack/arpack.py:1267: RuntimeWarning: k >= N - 1 for N * N square matrix. Attempting to use scipy.linalg.eig instead.\n",
      "  warnings.warn(\"k >= N - 1 for N * N square matrix. \"\n"
     ]
    },
    {
     "data": {
      "application/vnd.jupyter.widget-view+json": {
       "model_id": "45df603507f14f7298382c30ef0273fc",
       "version_major": 2,
       "version_minor": 0
      },
      "text/plain": [
       "Canvas(toolbar=Toolbar(toolitems=[('Home', 'Reset original view', 'home', 'home'), ('Back', 'Back to previous …"
      ]
     },
     "metadata": {},
     "output_type": "display_data"
    }
   ],
   "source": [
    "# Filtering Based on Mosquito\n",
    "filtered_abundance, filtered_metadata  = filtered_data(\"sample_type\", \"Mosquito\")\n",
    "eigenvectors, filtered_abundance_index = abundance_to_eigenvector(filtered_abundance, pandas_mode = True)\n",
    "eigenvector_to_plot(eigenvectors, filtered_metadata, \"Mosquito Generalized Eigenvectors\")"
   ]
  },
  {
   "cell_type": "code",
   "execution_count": 12,
   "metadata": {},
   "outputs": [
    {
     "name": "stderr",
     "output_type": "stream",
     "text": [
      "/home/zjabbar/.local/lib/python3.8/site-packages/scipy/sparse/linalg/eigen/arpack/arpack.py:1267: RuntimeWarning: k >= N - 1 for N * N square matrix. Attempting to use scipy.linalg.eig instead.\n",
      "  warnings.warn(\"k >= N - 1 for N * N square matrix. \"\n"
     ]
    },
    {
     "data": {
      "application/vnd.jupyter.widget-view+json": {
       "model_id": "06fdb8826c0d4cdb9f5231696c671a4a",
       "version_major": 2,
       "version_minor": 0
      },
      "text/plain": [
       "Canvas(toolbar=Toolbar(toolitems=[('Home', 'Reset original view', 'home', 'home'), ('Back', 'Back to previous …"
      ]
     },
     "metadata": {},
     "output_type": "display_data"
    }
   ],
   "source": [
    "# Filtering Based on Mosquito\n",
    "filtered_abundance, filtered_metadata  = filtered_data(\"sample_type\", \"Mosquito\", dropper = [105279, 105525, 105502])\n",
    "eigenvectors, filtered_abundance_index = abundance_to_eigenvector(filtered_abundance, pandas_mode = True)\n",
    "eigenvector_to_plot(eigenvectors, filtered_metadata, \"Mosquito Generalized Eigenvectors Dropped 3\")"
   ]
  },
  {
   "cell_type": "code",
   "execution_count": 13,
   "metadata": {},
   "outputs": [
    {
     "name": "stderr",
     "output_type": "stream",
     "text": [
      "/home/zjabbar/.local/lib/python3.8/site-packages/scipy/sparse/linalg/eigen/arpack/arpack.py:1267: RuntimeWarning: k >= N - 1 for N * N square matrix. Attempting to use scipy.linalg.eig instead.\n",
      "  warnings.warn(\"k >= N - 1 for N * N square matrix. \"\n"
     ]
    },
    {
     "data": {
      "application/vnd.jupyter.widget-view+json": {
       "model_id": "f3f6c49e237e4ba0acdc98460bf89473",
       "version_major": 2,
       "version_minor": 0
      },
      "text/plain": [
       "Canvas(toolbar=Toolbar(toolitems=[('Home', 'Reset original view', 'home', 'home'), ('Back', 'Back to previous …"
      ]
     },
     "metadata": {},
     "output_type": "display_data"
    }
   ],
   "source": [
    "# Using All Data\n",
    "filtered_abundance, filtered_metadata  = abundance_table, metadata\n",
    "eigenvectors, filtered_abundance_index = abundance_to_eigenvector(filtered_abundance, pandas_mode = True)\n",
    "eigenvector_to_plot(eigenvectors, filtered_metadata, \"All Generalized Eigenvectors\", color_descriptor=\"standard\")"
   ]
  },
  {
   "cell_type": "code",
   "execution_count": 15,
   "metadata": {},
   "outputs": [
    {
     "name": "stdout",
     "output_type": "stream",
     "text": [
      "(7.122827492742301e-17, 0.046944116676849966, 0.09231920771186891, 0.18020807529211777, 0.20869946874320458, 0.21922528976029013, 0.2264191845123947, 0.2552085875211022, 0.26208904209463413, 0.2653555555560466, 0.27512096631898186, 0.2886399693441487, 0.2981694290761307, 0.2988882139228235, 0.3147541773461532, 0.3322502975204712, 0.37661916908992743, 0.4096446983643368, 0.41772924092373626, 0.4217014217174079, 0.42874007661538915, 0.4495485520239819, 0.4495919809017021, 0.4844033501092248, 0.5338391298487144, 0.5508320854844418, 0.5538325866712612, 0.5583440176790819, 0.5619421551577596, 0.5753929949326224, 0.5856604786148532, 0.5924463009218793, 0.6175279677711993, 0.6191451873943254, 0.6256556608386664, 0.6339582868183785, 0.6356532633440748, 0.6444401572787455, 0.6485934803064693, 0.6524378700981794, 0.6628950333630925, 0.6651950786718133, 0.6704881955858996, 0.6862548193431917, 0.695733544970987, 0.7032147648153609, 0.7119702223524846, 0.7222170319390918, 0.7268390680556731, 0.7273269571272762, 0.7319359284259288, 0.7348478899007114, 0.7364659331087887, 0.7433492404006247, 0.7521757166316492, 0.7562170312783553, 0.7604811718018598, 0.7641100164884808, 0.7738326341375739, 0.7901356495768753, 0.8113266873946329, 0.8160116956247987, 0.8188447018086794, 0.8202401935200212, 0.8269491377789365, 0.8280962379980528, 0.8317409487737292, 0.841535184478352, 0.8462158499408471, 0.8494357243061543, 0.857542126757387, 0.8689859080223242, 0.8750477973466401, 0.8917426695848133, 0.8930169219095888, 0.9083093802431804, 0.9145517759898774, 0.9269769638374851, 0.938806071442581, 0.9412243563227786, 0.955900776983072, 0.9589386093316508, 0.9699115275986433, 0.973108189373404, 0.9790431204012678, 0.9803260584112776, 0.9908133406297305, 0.992234623788295, 0.9954039393056174, 0.9969217681862744, 0.9980624748104231, 0.9988793712522505, 0.9994046008160377, 0.9995905137109473, 0.9996732410293664, 0.9998424560079932, 0.9998686591931947, 0.9999458129345813, 0.9999525856918411, 0.999989544858425, 1.00001362418099, 1.0000491745105344, 1.000090855304784, 1.0001151036949927, 1.0003958779217696, 1.0006270315216703, 1.0009652284269812, 1.002012616742433, 1.0039635086562475)\n"
     ]
    },
    {
     "name": "stderr",
     "output_type": "stream",
     "text": [
      "/home/zjabbar/.local/lib/python3.8/site-packages/scipy/sparse/linalg/eigen/arpack/arpack.py:1267: RuntimeWarning: k >= N - 1 for N * N square matrix. Attempting to use scipy.linalg.eig instead.\n",
      "  warnings.warn(\"k >= N - 1 for N * N square matrix. \"\n"
     ]
    },
    {
     "data": {
      "application/vnd.jupyter.widget-view+json": {
       "model_id": "755d941a215a491cbe41e522705696b0",
       "version_major": 2,
       "version_minor": 0
      },
      "text/plain": [
       "Canvas(toolbar=Toolbar(toolitems=[('Home', 'Reset original view', 'home', 'home'), ('Back', 'Back to previous …"
      ]
     },
     "metadata": {},
     "output_type": "display_data"
    },
    {
     "data": {
      "text/plain": [
       "[<matplotlib.lines.Line2D at 0x7f96fcedf1c0>]"
      ]
     },
     "execution_count": 15,
     "metadata": {},
     "output_type": "execute_result"
    }
   ],
   "source": [
    "# Eigenvalues\n",
    "filtered_abundance, filtered_metadata  = filtered_data(\"host\", \"Animal\")\n",
    "eigenvectors, filtered_abundance_index, eigenvalues = abundance_to_eigenvector(filtered_abundance)\n",
    "print(eigenvalues)\n",
    "plt.figure()\n",
    "plt.title = \"Eigenvalues\"\n",
    "plt.plot(eigenvalues, linestyle=\"\", marker=\".\")"
   ]
  }
 ],
 "metadata": {
  "kernelspec": {
   "display_name": "Python 3",
   "language": "python",
   "name": "python3"
  },
  "language_info": {
   "codemirror_mode": {
    "name": "ipython",
    "version": 3
   },
   "file_extension": ".py",
   "mimetype": "text/x-python",
   "name": "python",
   "nbconvert_exporter": "python",
   "pygments_lexer": "ipython3",
   "version": "3.8.3"
  },
  "widgets": {
   "application/vnd.jupyter.widget-state+json": {
    "state": {
     "06fdb8826c0d4cdb9f5231696c671a4a": {
      "model_module": "jupyter-matplotlib",
      "model_module_version": "^0.7.2",
      "model_name": "MPLCanvasModel",
      "state": {
       "_cursor": "default",
       "_figure_label": "Figure 4",
       "_height": 480,
       "_width": 640,
       "layout": "IPY_MODEL_8afdec9710c54225aefbbafe971cf338",
       "toolbar": "IPY_MODEL_fb68f979a17a4c2c9fdd566349d8a4fe",
       "toolbar_position": "left"
      }
     },
     "1962aab3a43b4a5baaa54f716b04243e": {
      "model_module": "@jupyter-widgets/base",
      "model_module_version": "1.2.0",
      "model_name": "LayoutModel",
      "state": {}
     },
     "1f3cc18cf2d44ae88b2af989ce6dbbc1": {
      "model_module": "@jupyter-widgets/base",
      "model_module_version": "1.2.0",
      "model_name": "LayoutModel",
      "state": {}
     },
     "2a3b05336f214a70bd04794b8f30a9dd": {
      "model_module": "@jupyter-widgets/base",
      "model_module_version": "1.2.0",
      "model_name": "LayoutModel",
      "state": {}
     },
     "2e884456f74447219826119f8b4e916b": {
      "model_module": "@jupyter-widgets/base",
      "model_module_version": "1.2.0",
      "model_name": "LayoutModel",
      "state": {}
     },
     "352f24f3cc394809a9b5629a43137317": {
      "model_module": "@jupyter-widgets/base",
      "model_module_version": "1.2.0",
      "model_name": "LayoutModel",
      "state": {}
     },
     "367479f226bd455ab72259737cc42e99": {
      "model_module": "jupyter-matplotlib",
      "model_module_version": "^0.7.2",
      "model_name": "ToolbarModel",
      "state": {
       "layout": "IPY_MODEL_352f24f3cc394809a9b5629a43137317",
       "toolitems": [
        [
         "Home",
         "Reset original view",
         "home",
         "home"
        ],
        [
         "Back",
         "Back to previous view",
         "arrow-left",
         "back"
        ],
        [
         "Forward",
         "Forward to next view",
         "arrow-right",
         "forward"
        ],
        [
         "Pan",
         "Pan axes with left mouse, zoom with right",
         "arrows",
         "pan"
        ],
        [
         "Zoom",
         "Zoom to rectangle",
         "square-o",
         "zoom"
        ],
        [
         "Download",
         "Download plot",
         "floppy-o",
         "save_figure"
        ]
       ]
      }
     },
     "3e7b545090d54a8fb79745a7d04b3004": {
      "model_module": "jupyter-matplotlib",
      "model_module_version": "^0.7.2",
      "model_name": "ToolbarModel",
      "state": {
       "layout": "IPY_MODEL_c057aaee9fef4a9aa0346820ee1aef1b",
       "toolitems": [
        [
         "Home",
         "Reset original view",
         "home",
         "home"
        ],
        [
         "Back",
         "Back to previous view",
         "arrow-left",
         "back"
        ],
        [
         "Forward",
         "Forward to next view",
         "arrow-right",
         "forward"
        ],
        [
         "Pan",
         "Pan axes with left mouse, zoom with right",
         "arrows",
         "pan"
        ],
        [
         "Zoom",
         "Zoom to rectangle",
         "square-o",
         "zoom"
        ],
        [
         "Download",
         "Download plot",
         "floppy-o",
         "save_figure"
        ]
       ]
      }
     },
     "45df603507f14f7298382c30ef0273fc": {
      "model_module": "jupyter-matplotlib",
      "model_module_version": "^0.7.2",
      "model_name": "MPLCanvasModel",
      "state": {
       "_cursor": "default",
       "_figure_label": "Figure 3",
       "_height": 480,
       "_width": 640,
       "layout": "IPY_MODEL_fc00a4f178234a65bfa5d85fa2dfef09",
       "toolbar": "IPY_MODEL_62d2aa0040854c889bb628762d3bd3d1",
       "toolbar_position": "left"
      }
     },
     "586594ff1b644e5cbe463abd7756c8b8": {
      "model_module": "jupyter-matplotlib",
      "model_module_version": "^0.7.2",
      "model_name": "MPLCanvasModel",
      "state": {
       "_cursor": "default",
       "_figure_label": "Figure 1",
       "_height": 480,
       "_width": 640,
       "layout": "IPY_MODEL_7e0e110fd6a34a94a3ba5f3f0db1ee77",
       "toolbar": "IPY_MODEL_3e7b545090d54a8fb79745a7d04b3004",
       "toolbar_position": "left"
      }
     },
     "62a813024923404fb0ab96c0b8cde89f": {
      "model_module": "@jupyter-widgets/base",
      "model_module_version": "1.2.0",
      "model_name": "LayoutModel",
      "state": {}
     },
     "62d2aa0040854c889bb628762d3bd3d1": {
      "model_module": "jupyter-matplotlib",
      "model_module_version": "^0.7.2",
      "model_name": "ToolbarModel",
      "state": {
       "layout": "IPY_MODEL_2a3b05336f214a70bd04794b8f30a9dd",
       "toolitems": [
        [
         "Home",
         "Reset original view",
         "home",
         "home"
        ],
        [
         "Back",
         "Back to previous view",
         "arrow-left",
         "back"
        ],
        [
         "Forward",
         "Forward to next view",
         "arrow-right",
         "forward"
        ],
        [
         "Pan",
         "Pan axes with left mouse, zoom with right",
         "arrows",
         "pan"
        ],
        [
         "Zoom",
         "Zoom to rectangle",
         "square-o",
         "zoom"
        ],
        [
         "Download",
         "Download plot",
         "floppy-o",
         "save_figure"
        ]
       ]
      }
     },
     "66ca34688e5c46c393c40c6c8b903ae7": {
      "model_module": "@jupyter-widgets/base",
      "model_module_version": "1.2.0",
      "model_name": "LayoutModel",
      "state": {}
     },
     "755d941a215a491cbe41e522705696b0": {
      "model_module": "jupyter-matplotlib",
      "model_module_version": "^0.7.2",
      "model_name": "MPLCanvasModel",
      "state": {
       "_cursor": "default",
       "_figure_label": "Figure 7",
       "_height": 480,
       "_message": "x=94.2387      y=1.03504     ",
       "_width": 640,
       "layout": "IPY_MODEL_1f3cc18cf2d44ae88b2af989ce6dbbc1",
       "toolbar": "IPY_MODEL_ba91df8a1e4b4d8897346500ddeef33a",
       "toolbar_position": "left"
      }
     },
     "762359047378460ca9de9ff3dbc4be7e": {
      "model_module": "@jupyter-widgets/base",
      "model_module_version": "1.2.0",
      "model_name": "LayoutModel",
      "state": {}
     },
     "7e0e110fd6a34a94a3ba5f3f0db1ee77": {
      "model_module": "@jupyter-widgets/base",
      "model_module_version": "1.2.0",
      "model_name": "LayoutModel",
      "state": {}
     },
     "83bb0ee4201240d2be623a11b8d14ce7": {
      "model_module": "jupyter-matplotlib",
      "model_module_version": "^0.7.2",
      "model_name": "MPLCanvasModel",
      "state": {
       "_cursor": "default",
       "_figure_label": "Figure 2",
       "_height": 480,
       "_width": 640,
       "layout": "IPY_MODEL_f6fc502886ea43018bb176dbe6326273",
       "toolbar": "IPY_MODEL_b061ac3ac45946b5801776c3b0c7ff04",
       "toolbar_position": "left"
      }
     },
     "8afdec9710c54225aefbbafe971cf338": {
      "model_module": "@jupyter-widgets/base",
      "model_module_version": "1.2.0",
      "model_name": "LayoutModel",
      "state": {}
     },
     "a9f047ab7aba473c905c7a880a2991b9": {
      "model_module": "@jupyter-widgets/base",
      "model_module_version": "1.2.0",
      "model_name": "LayoutModel",
      "state": {}
     },
     "b061ac3ac45946b5801776c3b0c7ff04": {
      "model_module": "jupyter-matplotlib",
      "model_module_version": "^0.7.2",
      "model_name": "ToolbarModel",
      "state": {
       "layout": "IPY_MODEL_762359047378460ca9de9ff3dbc4be7e",
       "toolitems": [
        [
         "Home",
         "Reset original view",
         "home",
         "home"
        ],
        [
         "Back",
         "Back to previous view",
         "arrow-left",
         "back"
        ],
        [
         "Forward",
         "Forward to next view",
         "arrow-right",
         "forward"
        ],
        [
         "Pan",
         "Pan axes with left mouse, zoom with right",
         "arrows",
         "pan"
        ],
        [
         "Zoom",
         "Zoom to rectangle",
         "square-o",
         "zoom"
        ],
        [
         "Download",
         "Download plot",
         "floppy-o",
         "save_figure"
        ]
       ]
      }
     },
     "ba91df8a1e4b4d8897346500ddeef33a": {
      "model_module": "jupyter-matplotlib",
      "model_module_version": "^0.7.2",
      "model_name": "ToolbarModel",
      "state": {
       "layout": "IPY_MODEL_a9f047ab7aba473c905c7a880a2991b9",
       "toolitems": [
        [
         "Home",
         "Reset original view",
         "home",
         "home"
        ],
        [
         "Back",
         "Back to previous view",
         "arrow-left",
         "back"
        ],
        [
         "Forward",
         "Forward to next view",
         "arrow-right",
         "forward"
        ],
        [
         "Pan",
         "Pan axes with left mouse, zoom with right",
         "arrows",
         "pan"
        ],
        [
         "Zoom",
         "Zoom to rectangle",
         "square-o",
         "zoom"
        ],
        [
         "Download",
         "Download plot",
         "floppy-o",
         "save_figure"
        ]
       ]
      }
     },
     "bba99787d73841c6a50a718ef4df4a10": {
      "model_module": "jupyter-matplotlib",
      "model_module_version": "^0.7.2",
      "model_name": "MPLCanvasModel",
      "state": {
       "_cursor": "default",
       "_figure_label": "Figure 6",
       "_height": 480,
       "_width": 640,
       "layout": "IPY_MODEL_2e884456f74447219826119f8b4e916b",
       "toolbar": "IPY_MODEL_c2d4883c6824453fabcf0fdbbd116697",
       "toolbar_position": "left"
      }
     },
     "c057aaee9fef4a9aa0346820ee1aef1b": {
      "model_module": "@jupyter-widgets/base",
      "model_module_version": "1.2.0",
      "model_name": "LayoutModel",
      "state": {}
     },
     "c2d4883c6824453fabcf0fdbbd116697": {
      "model_module": "jupyter-matplotlib",
      "model_module_version": "^0.7.2",
      "model_name": "ToolbarModel",
      "state": {
       "layout": "IPY_MODEL_1962aab3a43b4a5baaa54f716b04243e",
       "toolitems": [
        [
         "Home",
         "Reset original view",
         "home",
         "home"
        ],
        [
         "Back",
         "Back to previous view",
         "arrow-left",
         "back"
        ],
        [
         "Forward",
         "Forward to next view",
         "arrow-right",
         "forward"
        ],
        [
         "Pan",
         "Pan axes with left mouse, zoom with right",
         "arrows",
         "pan"
        ],
        [
         "Zoom",
         "Zoom to rectangle",
         "square-o",
         "zoom"
        ],
        [
         "Download",
         "Download plot",
         "floppy-o",
         "save_figure"
        ]
       ]
      }
     },
     "f3f6c49e237e4ba0acdc98460bf89473": {
      "model_module": "jupyter-matplotlib",
      "model_module_version": "^0.7.2",
      "model_name": "MPLCanvasModel",
      "state": {
       "_cursor": "default",
       "_figure_label": "Figure 5",
       "_height": 480,
       "_image_mode": "diff",
       "_message": "x=-0.0177229  , y=0.0538585   , z=-0.00388718 ",
       "_width": 640,
       "layout": "IPY_MODEL_66ca34688e5c46c393c40c6c8b903ae7",
       "toolbar": "IPY_MODEL_367479f226bd455ab72259737cc42e99",
       "toolbar_position": "left"
      }
     },
     "f6fc502886ea43018bb176dbe6326273": {
      "model_module": "@jupyter-widgets/base",
      "model_module_version": "1.2.0",
      "model_name": "LayoutModel",
      "state": {}
     },
     "fb68f979a17a4c2c9fdd566349d8a4fe": {
      "model_module": "jupyter-matplotlib",
      "model_module_version": "^0.7.2",
      "model_name": "ToolbarModel",
      "state": {
       "layout": "IPY_MODEL_62a813024923404fb0ab96c0b8cde89f",
       "toolitems": [
        [
         "Home",
         "Reset original view",
         "home",
         "home"
        ],
        [
         "Back",
         "Back to previous view",
         "arrow-left",
         "back"
        ],
        [
         "Forward",
         "Forward to next view",
         "arrow-right",
         "forward"
        ],
        [
         "Pan",
         "Pan axes with left mouse, zoom with right",
         "arrows",
         "pan"
        ],
        [
         "Zoom",
         "Zoom to rectangle",
         "square-o",
         "zoom"
        ],
        [
         "Download",
         "Download plot",
         "floppy-o",
         "save_figure"
        ]
       ]
      }
     },
     "fc00a4f178234a65bfa5d85fa2dfef09": {
      "model_module": "@jupyter-widgets/base",
      "model_module_version": "1.2.0",
      "model_name": "LayoutModel",
      "state": {}
     }
    },
    "version_major": 2,
    "version_minor": 0
   }
  }
 },
 "nbformat": 4,
 "nbformat_minor": 4
}
