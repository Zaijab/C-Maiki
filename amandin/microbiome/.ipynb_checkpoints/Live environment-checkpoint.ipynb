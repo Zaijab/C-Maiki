{
 "cells": [
  {
   "cell_type": "code",
   "execution_count": 25,
   "metadata": {},
   "outputs": [],
   "source": [
    "%matplotlib ipympl\n",
    "\n",
    "# Import Dependencies\n",
    "from scipy.spatial.distance import pdist, squareform\n",
    "from scipy.sparse.linalg import eigs\n",
    "import numpy as np\n",
    "import pandas as pd\n",
    "import matplotlib.pyplot as plt\n",
    "from mpl_toolkits.mplot3d import Axes3D\n",
    "import skbio"
   ]
  },
  {
   "cell_type": "code",
   "execution_count": 15,
   "metadata": {},
   "outputs": [
    {
     "name": "stdout",
     "output_type": "stream",
     "text": [
      "(32, 30)\n"
     ]
    },
    {
     "data": {
      "application/vnd.jupyter.widget-view+json": {
       "model_id": "4ec753cd754a40c1b65c8ba999538de9",
       "version_major": 2,
       "version_minor": 0
      },
      "text/plain": [
       "Canvas(toolbar=Toolbar(toolitems=[('Home', 'Reset original view', 'home', 'home'), ('Back', 'Back to previous …"
      ]
     },
     "metadata": {},
     "output_type": "display_data"
    },
    {
     "data": {
      "text/plain": [
       "Text(0.5, 0.92, 'Generalized Eigenvector Mosquito 3D')"
      ]
     },
     "execution_count": 15,
     "metadata": {},
     "output_type": "execute_result"
    }
   ],
   "source": [
    "\n",
    "\n",
    "# Instantiation / Data Cleaning Zone\n",
    "# File Paths\n",
    "data_path = \"./data\"\n",
    "figure_path = \"./plots\"\n",
    "abundance_table_path = f\"{data_path}/abundance_table_97.shared\"\n",
    "metadata_path = f\"{data_path}/SuperTransect_mapping_file.csv\"\n",
    "\n",
    "# Abundance Table\n",
    "with open(abundance_table_path, \"r\") as file_literal:\n",
    "    raw_abundance_data = [line.strip().split(\"\\t\") for line in file_literal]\n",
    "    otu_names = raw_abundance_data[0][3:]\n",
    "    sample_names = list(map(int, [line[1] for line in raw_abundance_data[1:]]))\n",
    "    otu_counts = [line[3:] for line in raw_abundance_data[1:]]\n",
    "abundance_table = pd.DataFrame(\n",
    "    np.array(otu_counts, dtype=np.int64),\n",
    "    index=sample_names,\n",
    "    columns=otu_names)\n",
    "abundance_table[\"Abundance\"] = abundance_table.sum(axis=1)\n",
    "abundance_table[\"Presence\"] = abundance_table.drop(\"Abundance\", axis=1).where(\n",
    "    abundance_table == 0, 1).sum(axis=1)\n",
    "\n",
    "# Metadata\n",
    "metadata = pd.read_csv(metadata_path, index_col=0)\n",
    "\n",
    "mosquito_metadata = metadata.loc[metadata[\"sample_type\"] == \"Mosquito\"]\n",
    "mosquito_abundance = abundance_table.filter(\n",
    "    items=list(mosquito_metadata.index), axis=0)\n",
    "\n",
    "\n",
    "mosquito_adj = squareform(pdist(mosquito_abundance.drop(\n",
    "    [\"Abundance\", \"Presence\"], axis=1).drop([105525, 105502], axis=0), metric=\"minkowski\", p=1))\n",
    "\n",
    "mosquito_metadata = mosquito_metadata.loc[mosquito_abundance.drop(\n",
    "    [\"Abundance\", \"Presence\"], axis=1).drop([105525, 105502], axis=0).index]\n",
    "\n",
    "kernel = np.exp(- (mosquito_adj ** 2) / (3000**2))\n",
    "\n",
    "diagonal = np.diag(np.sum(kernel, axis=1))\n",
    "\n",
    "laplacian = diagonal - mosquito_adj\n",
    "\n",
    "#normalized_laplacian = np.linalg.inv(diagonal) * laplacian\n",
    "\n",
    "eigenvalues, eigenvectors = eigs(laplacian, k=4)\n",
    "eigenvectors = eigenvectors.T.real\n",
    "\n",
    "diagonal= mosquito_metadata[\"lat\"] + mosquito_metadata[\"long\"]\n",
    "low_right=min(diagonal)\n",
    "high_left=max(diagonal)\n",
    "gps_delta=high_left - low_right\n",
    "diagonal=(diagonal - low_right) / gps_delta\n",
    "color_gradient=[(0, i, 0) for i in list(diagonal)]\n",
    "\n",
    "print(mosquito_metadata.shape)\n",
    "\n",
    "# Plot\n",
    "fig = plt.figure()\n",
    "ax = fig.add_subplot(111, projection='3d')\n",
    "ax.scatter3D(eigenvectors[1], eigenvectors[2], eigenvectors[3], c=color_gradient)\n",
    "plt.title(\"Generalized Eigenvector Mosquito 3D\")"
   ]
  },
  {
   "cell_type": "code",
   "execution_count": 20,
   "metadata": {},
   "outputs": [
    {
     "name": "stdout",
     "output_type": "stream",
     "text": [
      "(109, 30)\n"
     ]
    },
    {
     "data": {
      "application/vnd.jupyter.widget-view+json": {
       "model_id": "f981838bcba647e5b3bbd4db543a1fd7",
       "version_major": 2,
       "version_minor": 0
      },
      "text/plain": [
       "Canvas(toolbar=Toolbar(toolitems=[('Home', 'Reset original view', 'home', 'home'), ('Back', 'Back to previous …"
      ]
     },
     "metadata": {},
     "output_type": "display_data"
    },
    {
     "data": {
      "text/plain": [
       "Text(0.5, 0.92, 'Generalized Eigenvector Animal 3D')"
      ]
     },
     "execution_count": 20,
     "metadata": {},
     "output_type": "execute_result"
    }
   ],
   "source": [
    "# Instantiation / Data Cleaning Zone\n",
    "# File Paths\n",
    "data_path = \"./data\"\n",
    "figure_path = \"./plots\"\n",
    "abundance_table_path = f\"{data_path}/abundance_table_97.shared\"\n",
    "metadata_path = f\"{data_path}/SuperTransect_mapping_file.csv\"\n",
    "\n",
    "# Abundance Table\n",
    "with open(abundance_table_path, \"r\") as file_literal:\n",
    "    raw_abundance_data = [line.strip().split(\"\\t\") for line in file_literal]\n",
    "    otu_names = raw_abundance_data[0][3:]\n",
    "    sample_names = list(map(int, [line[1] for line in raw_abundance_data[1:]]))\n",
    "    otu_counts = [line[3:] for line in raw_abundance_data[1:]]\n",
    "abundance_table = pd.DataFrame(\n",
    "    np.array(otu_counts, dtype=np.int64),\n",
    "    index=sample_names,\n",
    "    columns=otu_names)\n",
    "abundance_table[\"Abundance\"] = abundance_table.sum(axis=1)\n",
    "abundance_table[\"Presence\"] = abundance_table.drop(\"Abundance\", axis=1).where(\n",
    "    abundance_table == 0, 1).sum(axis=1)\n",
    "\n",
    "# Metadata\n",
    "metadata = pd.read_csv(metadata_path, index_col=0)\n",
    "\n",
    "# Taxonomy\n",
    "taxonomy_path = f\"{self.data_path}/annotations_97.taxonomy\"\n",
    "\n",
    "with open(taxonomy_path, 'r') as f:\n",
    "    raw_metadata = [line.strip().split(\"\\t\") for line in f][1:]\n",
    "taxonomies = {}\n",
    "otu_names = []\n",
    "for line in raw_metadata:\n",
    "    taxonomies[line[0]] = line[2].split(\";\")[:-1]\n",
    "    otu_names.append(line[0])\n",
    "\n",
    "taxonomic_tree = skbio.TreeNode.from_taxonomy(\n",
    "    [(x, taxonomies[x]) for x in taxonomies])\n",
    "taxonomic_tree = taxonomic_tree.root_at(taxonomic_tree)\n",
    "for node in taxonomic_tree.traverse():\n",
    "    node.length = 1\n",
    "    \n",
    "\n",
    "def get_unifrac_distances(self):\n",
    "    unifrac_dists = skbio.diversity.beta_diversity(\n",
    "        'weighted_unifrac', self.otu_data, otu_ids=self.otu_names, validate=False, tree=self.taxonomic_tree, normalized=True)\n",
    "    return unifrac_dists\n",
    "\n",
    "def get_unweighted_unifrac_distances(self):\n",
    "    unifrac_dists = skbio.diversity.beta_diversity(\n",
    "        'unweighted_unifrac', self.otu_data, otu_ids=self.otu_names, validate=False, tree=self.taxonomic_tree)\n",
    "\n",
    "\n",
    "mosquito_metadata = metadata.loc[metadata[\"host\"] == \"Animal\"]\n",
    "mosquito_abundance = abundance_table.filter(\n",
    "    items=list(mosquito_metadata.index), axis=0)\n",
    "\n",
    "\n",
    "mosquito_adj = squareform(pdist(mosquito_abundance.drop(\n",
    "    [\"Abundance\", \"Presence\"], axis=1), metric=\"minkowski\", p=1))\n",
    "\n",
    "mosquito_metadata = mosquito_metadata.loc[mosquito_abundance.drop(\n",
    "    [\"Abundance\", \"Presence\"], axis=1).index]\n",
    "\n",
    "kernel = np.exp(- (mosquito_adj ** 2) / (3000**2))\n",
    "\n",
    "diagonal = np.diag(np.sum(kernel, axis=1))\n",
    "\n",
    "laplacian = diagonal - mosquito_adj\n",
    "\n",
    "#normalized_laplacian = np.linalg.inv(diagonal) * laplacian\n",
    "\n",
    "eigenvalues, eigenvectors = eigs(laplacian, k=4)\n",
    "eigenvectors = eigenvectors.T.real\n",
    "\n",
    "diagonal= mosquito_metadata[\"lat\"] + mosquito_metadata[\"long\"]\n",
    "low_right=min(diagonal)\n",
    "high_left=max(diagonal)\n",
    "gps_delta=high_left - low_right\n",
    "diagonal=(diagonal - low_right) / gps_delta\n",
    "color_gradient=[(0, i, 0) for i in list(diagonal)]\n",
    "\n",
    "print(mosquito_metadata.shape)\n",
    "\n",
    "# Plot\n",
    "fig = plt.figure()\n",
    "ax = fig.add_subplot(111, projection='3d')\n",
    "ax.scatter3D(eigenvectors[1], eigenvectors[2], eigenvectors[3], c=color_gradient)\n",
    "plt.title(\"Generalized Eigenvector Animal 3D\")"
   ]
  },
  {
   "cell_type": "code",
   "execution_count": 21,
   "metadata": {},
   "outputs": [
    {
     "name": "stdout",
     "output_type": "stream",
     "text": [
      "(110, 30)\n"
     ]
    },
    {
     "data": {
      "application/vnd.jupyter.widget-view+json": {
       "model_id": "13fe065971474148a448821e192d76fc",
       "version_major": 2,
       "version_minor": 0
      },
      "text/plain": [
       "Canvas(toolbar=Toolbar(toolitems=[('Home', 'Reset original view', 'home', 'home'), ('Back', 'Back to previous …"
      ]
     },
     "metadata": {},
     "output_type": "display_data"
    },
    {
     "data": {
      "text/plain": [
       "Text(0.5, 0.92, 'Generalized Eigenvector Plant 3D')"
      ]
     },
     "execution_count": 21,
     "metadata": {},
     "output_type": "execute_result"
    }
   ],
   "source": [
    "\n",
    "\n",
    "# Instantiation / Data Cleaning Zone\n",
    "# File Paths\n",
    "data_path = \"./data\"\n",
    "figure_path = \"./plots\"\n",
    "abundance_table_path = f\"{data_path}/abundance_table_97.shared\"\n",
    "metadata_path = f\"{data_path}/SuperTransect_mapping_file.csv\"\n",
    "\n",
    "# Abundance Table\n",
    "with open(abundance_table_path, \"r\") as file_literal:\n",
    "    raw_abundance_data = [line.strip().split(\"\\t\") for line in file_literal]\n",
    "    otu_names = raw_abundance_data[0][3:]\n",
    "    sample_names = list(map(int, [line[1] for line in raw_abundance_data[1:]]))\n",
    "    otu_counts = [line[3:] for line in raw_abundance_data[1:]]\n",
    "abundance_table = pd.DataFrame(\n",
    "    np.array(otu_counts, dtype=np.int64),\n",
    "    index=sample_names,\n",
    "    columns=otu_names)\n",
    "abundance_table[\"Abundance\"] = abundance_table.sum(axis=1)\n",
    "abundance_table[\"Presence\"] = abundance_table.drop(\"Abundance\", axis=1).where(\n",
    "    abundance_table == 0, 1).sum(axis=1)\n",
    "\n",
    "# Metadata\n",
    "metadata = pd.read_csv(metadata_path, index_col=0)\n",
    "\n",
    "mosquito_metadata = metadata.loc[metadata[\"host\"] == \"Plant\"]\n",
    "mosquito_abundance = abundance_table.filter(\n",
    "    items=list(mosquito_metadata.index), axis=0)\n",
    "\n",
    "\n",
    "mosquito_adj = squareform(pdist(mosquito_abundance.drop(\n",
    "    [\"Abundance\", \"Presence\"], axis=1), metric=\"minkowski\", p=1))\n",
    "\n",
    "mosquito_metadata = mosquito_metadata.loc[mosquito_abundance.drop(\n",
    "    [\"Abundance\", \"Presence\"], axis=1).index]\n",
    "\n",
    "kernel = np.exp(- (mosquito_adj ** 2) / (3000**2))\n",
    "\n",
    "diagonal = np.diag(np.sum(kernel, axis=1))\n",
    "\n",
    "laplacian = diagonal - mosquito_adj\n",
    "\n",
    "#normalized_laplacian = np.linalg.inv(diagonal) * laplacian\n",
    "\n",
    "eigenvalues, eigenvectors = eigs(laplacian, k=4)\n",
    "eigenvectors = eigenvectors.T.real\n",
    "\n",
    "diagonal= mosquito_metadata[\"lat\"] + mosquito_metadata[\"long\"]\n",
    "low_right=min(diagonal)\n",
    "high_left=max(diagonal)\n",
    "gps_delta=high_left - low_right\n",
    "diagonal=(diagonal - low_right) / gps_delta\n",
    "color_gradient=[(0, i, 0) for i in list(diagonal)]\n",
    "\n",
    "print(mosquito_metadata.shape)\n",
    "\n",
    "# Plot\n",
    "fig = plt.figure()\n",
    "ax = fig.add_subplot(111, projection='3d')\n",
    "ax.scatter3D(eigenvectors[1], eigenvectors[2], eigenvectors[3], c=color_gradient)\n",
    "plt.title(\"Generalized Eigenvector Plant 3D\")"
   ]
  },
  {
   "cell_type": "code",
   "execution_count": 23,
   "metadata": {},
   "outputs": [
    {
     "name": "stdout",
     "output_type": "stream",
     "text": [
      "(240, 30)\n"
     ]
    },
    {
     "data": {
      "application/vnd.jupyter.widget-view+json": {
       "model_id": "c795b3ba1deb46598c4b45610b10abf2",
       "version_major": 2,
       "version_minor": 0
      },
      "text/plain": [
       "Canvas(toolbar=Toolbar(toolitems=[('Home', 'Reset original view', 'home', 'home'), ('Back', 'Back to previous …"
      ]
     },
     "metadata": {},
     "output_type": "display_data"
    },
    {
     "data": {
      "text/plain": [
       "Text(0.5, 0.92, 'Generalized Eigenvector Nonhost 3D')"
      ]
     },
     "execution_count": 23,
     "metadata": {},
     "output_type": "execute_result"
    }
   ],
   "source": [
    "\n",
    "\n",
    "# Instantiation / Data Cleaning Zone\n",
    "# File Paths\n",
    "data_path = \"./data\"\n",
    "figure_path = \"./plots\"\n",
    "abundance_table_path = f\"{data_path}/abundance_table_97.shared\"\n",
    "metadata_path = f\"{data_path}/SuperTransect_mapping_file.csv\"\n",
    "\n",
    "# Abundance Table\n",
    "with open(abundance_table_path, \"r\") as file_literal:\n",
    "    raw_abundance_data = [line.strip().split(\"\\t\") for line in file_literal]\n",
    "    otu_names = raw_abundance_data[0][3:]\n",
    "    sample_names = list(map(int, [line[1] for line in raw_abundance_data[1:]]))\n",
    "    otu_counts = [line[3:] for line in raw_abundance_data[1:]]\n",
    "abundance_table = pd.DataFrame(\n",
    "    np.array(otu_counts, dtype=np.int64),\n",
    "    index=sample_names,\n",
    "    columns=otu_names)\n",
    "abundance_table[\"Abundance\"] = abundance_table.sum(axis=1)\n",
    "abundance_table[\"Presence\"] = abundance_table.drop(\"Abundance\", axis=1).where(\n",
    "    abundance_table == 0, 1).sum(axis=1)\n",
    "\n",
    "# Metadata\n",
    "metadata = pd.read_csv(metadata_path, index_col=0)\n",
    "\n",
    "mosquito_metadata = metadata.loc[metadata[\"host\"] == \"Nonhost\"]\n",
    "mosquito_abundance = abundance_table.filter(\n",
    "    items=list(mosquito_metadata.index), axis=0)\n",
    "\n",
    "\n",
    "mosquito_adj = squareform(pdist(mosquito_abundance.drop(\n",
    "    [\"Abundance\", \"Presence\"], axis=1), metric=\"minkowski\", p=1))\n",
    "\n",
    "mosquito_metadata = mosquito_metadata.loc[mosquito_abundance.drop(\n",
    "    [\"Abundance\", \"Presence\"], axis=1).index]\n",
    "\n",
    "kernel = np.exp(- (mosquito_adj ** 2) / (3000**2))\n",
    "\n",
    "diagonal = np.diag(np.sum(kernel, axis=1))\n",
    "\n",
    "laplacian = diagonal - mosquito_adj\n",
    "\n",
    "#normalized_laplacian = np.linalg.inv(diagonal) * laplacian\n",
    "\n",
    "eigenvalues, eigenvectors = eigs(laplacian, k=4)\n",
    "eigenvectors = eigenvectors.T.real\n",
    "\n",
    "diagonal= mosquito_metadata[\"lat\"] + mosquito_metadata[\"long\"]\n",
    "low_right=min(diagonal)\n",
    "high_left=max(diagonal)\n",
    "gps_delta=high_left - low_right\n",
    "diagonal=(diagonal - low_right) / gps_delta\n",
    "color_gradient=[(0, i, 0) for i in list(diagonal)]\n",
    "\n",
    "print(mosquito_metadata.shape)\n",
    "\n",
    "# Plot\n",
    "fig = plt.figure()\n",
    "ax = fig.add_subplot(111, projection='3d')\n",
    "ax.scatter3D(eigenvectors[1], eigenvectors[2], eigenvectors[3], c=color_gradient)\n",
    "plt.title(\"Generalized Eigenvector Nonhost 3D\")"
   ]
  }
 ],
 "metadata": {
  "kernelspec": {
   "display_name": "Python 3",
   "language": "python",
   "name": "python3"
  },
  "language_info": {
   "codemirror_mode": {
    "name": "ipython",
    "version": 3
   },
   "file_extension": ".py",
   "mimetype": "text/x-python",
   "name": "python",
   "nbconvert_exporter": "python",
   "pygments_lexer": "ipython3",
   "version": "3.6.10"
  }
 },
 "nbformat": 4,
 "nbformat_minor": 4
}
