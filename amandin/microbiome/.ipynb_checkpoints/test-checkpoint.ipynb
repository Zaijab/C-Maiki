{
 "cells": [
  {
   "cell_type": "raw",
   "id": "4fab4233",
   "metadata": {},
   "source": [
    "# Program Initialization\n",
    "\n",
    "## Import Modules\n",
    "\n",
    "``` python\n",
    "from scipy.spatial.distance import pdist, squareform\n",
    "from scipy.sparse.linalg import eigs, eigsh\n",
    "from scipy import stats\n",
    "import numpy as np\n",
    "import pandas as pd\n",
    "import matplotlib.pyplot as plt\n",
    "from mpl_toolkits.mplot3d import Axes3D\n",
    "from matplotlib.lines import Line2D\n",
    "plt.rcParams['figure.facecolor'] = 'white'\n",
    "from operator import methodcaller, attrgetter\n",
    "```\n",
    "\n",
    "## Import Data\n",
    "\n",
    "``` python\n",
    "data_path = \"/home/zjabbar/code/C-Maiki/amandin/microbiome/data\"\n",
    "figure_path = \"/home/zjabbar/code/C-Maiki/amandin/microbiome/plots\"\n",
    "abundance_table_path = f\"{data_path}/mm_16s_hiseqs_abundance_table.csv\"\n",
    "metadata_path = f\"{data_path}/mm_16s_hiseqs_metadata_table.csv\"\n",
    "\n",
    "# Abundance Table\n",
    "abundance_table = pd.read_csv(abundance_table_path, index_col=0)\n",
    "abundance_table[\"Abundance\"] = abundance_table.sum(axis=1)\n",
    "abundance_table[\"Presence\"] = abundance_table.drop(\"Abundance\", axis=1).where(abundance_table == 0, 1).sum(axis=1)\n",
    "\n",
    "# Metadata\n",
    "metadata = pd.read_csv(metadata_path, index_col=0)\n",
    "metadata = metadata.loc[metadata[\"trophic\"].notna()]\n",
    "abundance_table = abundance_table.filter(items=list(metadata[\"sequencing_id\"]), axis=0)\n",
    "metadata = metadata[metadata[\"sequencing_id\"].isin(abundance_table.index)]\n",
    "```\n",
    "\n",
    "## Field Functions\n",
    "\n",
    "Define functions which act on grabbing / manipulating data on samples\n",
    "matching a field. This is so we can define functions which act on entire\n",
    "abundance<sub>tables</sub>, then call it iteratively using this method.\n",
    "\n",
    "``` python\n",
    "def filtration(key, filterer):\n",
    "    filtered_metadata = metadata.loc[metadata[key] == filterer]\n",
    "    filtered_abundance = abundance_table.filter(\n",
    "        items=list(filtered_metadata[\"sequencing_id\"]), axis=0)\n",
    "    filtered_metadata = filtered_metadata[filtered_metadata[\"sequencing_id\"].isin(filtered_abundance.index)]\n",
    "    return filtered_abundance, filtered_metadata\n",
    "\n",
    "def map_element_in_field(field, function):\n",
    "    return {element : attrgetter(function)(filtration(field, element)[0]) for element in metadata[field].unique().tolist()}\n",
    "```"
   ]
  }
 ],
 "metadata": {
  "kernelspec": {
   "display_name": "Python 3",
   "language": "/gnu/store/9lagz2zyb8w28dyzlskzw9ylcjjaaklw-python-wrapper-3.8.2/bin/python",
   "name": "python3"
  },
  "language_info": {
   "codemirror_mode": {
    "name": "ipython",
    "version": 3
   },
   "file_extension": ".py",
   "mimetype": "text/x-python",
   "name": "python",
   "nbconvert_exporter": "python",
   "pygments_lexer": "ipython3",
   "version": "3.8.2"
  }
 },
 "nbformat": 4,
 "nbformat_minor": 5
}
