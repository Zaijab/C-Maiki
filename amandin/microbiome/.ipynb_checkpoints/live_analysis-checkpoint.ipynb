{
 "cells": [
  {
   "cell_type": "code",
   "execution_count": 1,
   "metadata": {},
   "outputs": [],
   "source": [
    "from scipy.spatial.distance import pdist, squareform\n",
    "from scipy.sparse.linalg import eigs, eigsh\n",
    "from scipy import stats\n",
    "import numpy as np\n",
    "import pandas as pd\n",
    "import matplotlib.pyplot as plt\n",
    "from mpl_toolkits.mplot3d import Axes3D\n",
    "from matplotlib.lines import Line2D"
   ]
  },
  {
   "cell_type": "code",
   "execution_count": 2,
   "metadata": {},
   "outputs": [],
   "source": [
    "# File Paths\n",
    "data_path = \"./data\"\n",
    "figure_path = \"./plots\"\n",
    "abundance_table_path = f\"{data_path}/mm_16s_hiseqs_abundance_table.csv\"\n",
    "metadata_path = f\"{data_path}/mm_16s_hiseqs_metadata_table.csv\""
   ]
  },
  {
   "cell_type": "code",
   "execution_count": 6,
   "metadata": {},
   "outputs": [
    {
     "name": "stdout",
     "output_type": "stream",
     "text": [
      "        Otu000002  Otu000004  Otu000005  Otu000011  Otu000012  Otu000015  \\\n",
      "Group                                                                      \n",
      "101591          0          0          7          0         12          0   \n",
      "101592          4          0          0          0          3          0   \n",
      "101593          0          0          0          0          7          0   \n",
      "101594          0          0          0          0         12          0   \n",
      "101595          0          0          0          0          0          0   \n",
      "...           ...        ...        ...        ...        ...        ...   \n",
      "104473          8          0          0        114          0          0   \n",
      "104474          0          0          0          0          0          0   \n",
      "104475          5          0          0          0          0          0   \n",
      "104476         16          0          0          0          0          0   \n",
      "104477          0          0          0          0          0          0   \n",
      "\n",
      "        Otu000017  Otu000018  Otu000021  Otu000022  ...  Otu280670  Otu287528  \\\n",
      "Group                                               ...                         \n",
      "101591          0          0          0          0  ...          0          0   \n",
      "101592          0          0          0          0  ...          0          0   \n",
      "101593          0          0          0          0  ...          0          0   \n",
      "101594          0          0          0          0  ...          0          0   \n",
      "101595          0          0          0          0  ...          0          0   \n",
      "...           ...        ...        ...        ...  ...        ...        ...   \n",
      "104473          0         49          0          0  ...          0          0   \n",
      "104474          0          0          0         10  ...          0          0   \n",
      "104475          0          0          0          0  ...          0          0   \n",
      "104476          0          0          0         10  ...          0          0   \n",
      "104477          0        199          0          0  ...          0          0   \n",
      "\n",
      "        Otu293098  Otu312139  Otu323635  Otu323649  Otu323902  Otu345606  \\\n",
      "Group                                                                      \n",
      "101591          0          0          0          0          0          0   \n",
      "101592          0          0          0          0          0          0   \n",
      "101593          0          0          0          0          0          0   \n",
      "101594          0          0          0          0          0          0   \n",
      "101595          0          0          0          0          0          0   \n",
      "...           ...        ...        ...        ...        ...        ...   \n",
      "104473          0          0          0          0          0          0   \n",
      "104474          0          0          0          0          0          0   \n",
      "104475          0          0          0          0          0          0   \n",
      "104476          0          0          0          0          0          0   \n",
      "104477          0          0          0          0          0          0   \n",
      "\n",
      "        Otu357907  Otu370758  \n",
      "Group                         \n",
      "101591          0          0  \n",
      "101592          0          0  \n",
      "101593          0          0  \n",
      "101594          0          0  \n",
      "101595          0          0  \n",
      "...           ...        ...  \n",
      "104473          0          0  \n",
      "104474          0          0  \n",
      "104475          0          0  \n",
      "104476          0          0  \n",
      "104477          0          0  \n",
      "\n",
      "[1732 rows x 5999 columns]\n"
     ]
    }
   ],
   "source": [
    "# Abundance Table\n",
    "abundance_table = pd.read_csv(abundance_table_path, index_col=0)\n",
    "abundance_table[\"Abundance\"] = abundance_table.sum(axis=1)\n",
    "abundance_table[\"Presence\"] = abundance_table.drop(\"Abundance\", axis=1).where(\n",
    "    abundance_table == 0, 1).sum(axis=1)\n",
    "\n",
    "# Metadata\n",
    "metadata = pd.read_csv(metadata_path, index_col=0)\n",
    "metadata = metadata.loc[metadata[\"trophic\"].notna()]\n",
    "abundance_table = abundance_table.filter(\n",
    "    items=list(metadata.index), axis=0)\n",
    "metadata = metadata.loc[abundance_table.index]"
   ]
  },
  {
   "cell_type": "code",
   "execution_count": 4,
   "metadata": {},
   "outputs": [
    {
     "data": {
      "text/html": [
       "<div>\n",
       "<style scoped>\n",
       "    .dataframe tbody tr th:only-of-type {\n",
       "        vertical-align: middle;\n",
       "    }\n",
       "\n",
       "    .dataframe tbody tr th {\n",
       "        vertical-align: top;\n",
       "    }\n",
       "\n",
       "    .dataframe thead th {\n",
       "        text-align: right;\n",
       "    }\n",
       "</style>\n",
       "<table border=\"1\" class=\"dataframe\">\n",
       "  <thead>\n",
       "    <tr style=\"text-align: right;\">\n",
       "      <th></th>\n",
       "      <th>Otu000002</th>\n",
       "      <th>Otu000004</th>\n",
       "      <th>Otu000005</th>\n",
       "      <th>Otu000011</th>\n",
       "      <th>Otu000012</th>\n",
       "      <th>Otu000015</th>\n",
       "      <th>Otu000017</th>\n",
       "      <th>Otu000018</th>\n",
       "      <th>Otu000021</th>\n",
       "      <th>Otu000022</th>\n",
       "      <th>...</th>\n",
       "      <th>Otu293098</th>\n",
       "      <th>Otu312139</th>\n",
       "      <th>Otu323635</th>\n",
       "      <th>Otu323649</th>\n",
       "      <th>Otu323902</th>\n",
       "      <th>Otu345606</th>\n",
       "      <th>Otu357907</th>\n",
       "      <th>Otu370758</th>\n",
       "      <th>Abundance</th>\n",
       "      <th>Presence</th>\n",
       "    </tr>\n",
       "    <tr>\n",
       "      <th>Group</th>\n",
       "      <th></th>\n",
       "      <th></th>\n",
       "      <th></th>\n",
       "      <th></th>\n",
       "      <th></th>\n",
       "      <th></th>\n",
       "      <th></th>\n",
       "      <th></th>\n",
       "      <th></th>\n",
       "      <th></th>\n",
       "      <th></th>\n",
       "      <th></th>\n",
       "      <th></th>\n",
       "      <th></th>\n",
       "      <th></th>\n",
       "      <th></th>\n",
       "      <th></th>\n",
       "      <th></th>\n",
       "      <th></th>\n",
       "      <th></th>\n",
       "      <th></th>\n",
       "    </tr>\n",
       "  </thead>\n",
       "  <tbody>\n",
       "  </tbody>\n",
       "</table>\n",
       "<p>0 rows × 6001 columns</p>\n",
       "</div>"
      ],
      "text/plain": [
       "Empty DataFrame\n",
       "Columns: [Otu000002, Otu000004, Otu000005, Otu000011, Otu000012, Otu000015, Otu000017, Otu000018, Otu000021, Otu000022, Otu000023, Otu000025, Otu000026, Otu000027, Otu000028, Otu000029, Otu000030, Otu000031, Otu000034, Otu000035, Otu000036, Otu000038, Otu000039, Otu000040, Otu000041, Otu000042, Otu000043, Otu000044, Otu000045, Otu000047, Otu000048, Otu000049, Otu000050, Otu000051, Otu000053, Otu000055, Otu000056, Otu000057, Otu000058, Otu000060, Otu000061, Otu000063, Otu000064, Otu000065, Otu000066, Otu000068, Otu000069, Otu000071, Otu000072, Otu000073, Otu000074, Otu000075, Otu000076, Otu000079, Otu000081, Otu000082, Otu000084, Otu000085, Otu000087, Otu000089, Otu000090, Otu000092, Otu000094, Otu000095, Otu000096, Otu000097, Otu000098, Otu000099, Otu000100, Otu000101, Otu000103, Otu000105, Otu000106, Otu000107, Otu000108, Otu000110, Otu000111, Otu000112, Otu000113, Otu000115, Otu000116, Otu000117, Otu000118, Otu000119, Otu000120, Otu000121, Otu000122, Otu000123, Otu000124, Otu000125, Otu000126, Otu000127, Otu000128, Otu000129, Otu000130, Otu000131, Otu000134, Otu000135, Otu000136, Otu000138, ...]\n",
       "Index: []\n",
       "\n",
       "[0 rows x 6001 columns]"
      ]
     },
     "execution_count": 4,
     "metadata": {},
     "output_type": "execute_result"
    }
   ],
   "source": [
    "abundance_table"
   ]
  },
  {
   "cell_type": "code",
   "execution_count": 4,
   "metadata": {},
   "outputs": [],
   "source": [
    "def filtration(key, filterer):\n",
    "    filtered_metadata = metadata.loc[metadata[key] == filterer]\n",
    "    filtered_abundance = abundance_table.filter(\n",
    "            items=list(filtered_metadata.index), axis=0)\n",
    "    filtered_metadata = filtered_metadata.loc[filtered_abundance.index]\n",
    "    return filtered_abundance, filtered_metadata"
   ]
  },
  {
   "cell_type": "code",
   "execution_count": 26,
   "metadata": {},
   "outputs": [
    {
     "name": "stdout",
     "output_type": "stream",
     "text": [
      "mu: 229.21917808219177\n",
      "sigma: 98.88910495064904\n",
      "Values one standard deviation away from the mean: 0.6986301369863014\n",
      "Values two standard deviations away from the mean: 0.9657534246575342\n",
      "Values three standard deviation away from the mean: 1.0\n"
     ]
    }
   ],
   "source": [
    "filtered_abundance_table, _ = filtration(\"trophic\", \"PrimaryProducer\")\n",
    "\n",
    "mu = filtered_abundance_table[\"Presence\"].mean()\n",
    "sigma = filtered_abundance_table[\"Presence\"].std()\n",
    "\n",
    "print(\"mu:\", mu)\n",
    "print(\"sigma:\", sigma)\n",
    "print(\"Values one standard deviation away from the mean:\",(filtered_abundance_table[\"Presence\"] - mu).between(-sigma,sigma).sum() / 146)\n",
    "\n",
    "print(\"Values two standard deviations away from the mean:\",(filtered_abundance_table[\"Presence\"] - mu).between(-2*sigma,2*sigma).sum() / 146)\n",
    "\n",
    "print(\"Values three standard deviation away from the mean:\",(filtered_abundance_table[\"Presence\"] - mu).between(-3*sigma,3*sigma).sum() / 146)\n"
   ]
  },
  {
   "cell_type": "code",
   "execution_count": 6,
   "metadata": {},
   "outputs": [],
   "source": [
    "# Analysis function\n",
    "def abundance_to_eigenvector(filtered_abundance_table, debug=False, pandas_mode=False):\n",
    "    adjacency_matrix = squareform(pdist(filtered_abundance_table, metric=\"minkowski\", p=1))\n",
    "    kernel = np.exp(- (adjacency_matrix ** 2) / (3000**2))\n",
    "    diagonal = np.diag(np.sum(kernel,axis=1))\n",
    "    laplacian = diagonal - kernel\n",
    "    eigenvalues, eigenvectors = eigs(laplacian, k=len(laplacian) - 1, M=diagonal)\n",
    "    sample_eigens = zip(eigenvalues.real, eigenvectors.T, filtered_abundance_table.index)\n",
    "    eigenvalues, eigenvectors, sample_ids = zip(*sorted(sample_eigens, key = lambda tup:tup[0]))\n",
    "\n",
    "    if debug:\n",
    "        print(\"Adjacency Matrix:\\n\", adjacency_matrix, \"\\n\")\n",
    "        print(\"Kernel:\\n\", kernel, \"\\n\")\n",
    "        print(\"Diagonal:\\n\", diagonal, \"\\n\")\n",
    "        print(\"Laplacian:\\n\", laplacian, \"\\n\")\n",
    "        print(\"Eigenvalues:\\n\", eigenvalues, \"\\n\")\n",
    "        print(\"Eigenvectors:\\n\", eigenvectors, \"\\n\")\n",
    "        print(\"Sample ID's:\\n\", sample_ids, \"\\n\")\n",
    "    \n",
    "    if pandas_mode:\n",
    "        return pd.DataFrame(eigenvectors, columns = filtered_abundance_table.index), filtered_abundance_table.index\n",
    "    \n",
    "    return eigenvectors, filtered_abundance_table.index, eigenvalues"
   ]
  },
  {
   "cell_type": "code",
   "execution_count": 7,
   "metadata": {},
   "outputs": [],
   "source": [
    "# Eigenvector 3D function\n",
    "def eigenvector_to_plot(eigenvectors, metadata, title, text = None, color_descriptor = \"gps\"):\n",
    "    fig = plt.figure()\n",
    "    ax = fig.add_subplot(111, projection='3d')\n",
    "    ax.set_xlabel('X axis')\n",
    "    ax.set_ylabel('Y axis')\n",
    "    ax.set_zlabel('Z axis')\n",
    "    labels = eigenvectors.columns\n",
    "    eigenvectors = eigenvectors.to_numpy()\n",
    "    \n",
    "    if text == None and color_descriptor == None:\n",
    "        ax.scatter3D(eigenvectors[1], eigenvectors[2], eigenvectors[3])\n",
    "    if text == \"samples\":\n",
    "        for label, x, y, z in zip(labels, eigenvectors[1], eigenvectors[2], eigenvectors[3]):\n",
    "            ax.text(x, y, z, label, None)\n",
    "    if color_descriptor == \"gps\":\n",
    "        location_number = metadata[\"lat\"] + metadata[\"long\"]\n",
    "        color_number = (location_number - min(location_number)) / (max(location_number) - min(location_number))\n",
    "        colors = [(0, color, 0) for color in color_number]\n",
    "        for color, x, y, z in zip(colors, eigenvectors[1], eigenvectors[2], eigenvectors[3]):\n",
    "            ax.scatter(x, y, z, color=color)\n",
    "        custom_lines = [Line2D([0], [0], color=(0, 1, 0), lw=4),\n",
    "                        Line2D([0], [0], color=(0, 0, 0), lw=4)]\n",
    "        ax.legend(custom_lines, ['Higher Elevation', 'Lower Elevation'], loc =\"center left\", bbox_to_anchor=(-.1, 0))\n",
    "    elif color_descriptor == \"standard\":\n",
    "        for label, x, y, z in zip(labels, eigenvectors[1], eigenvectors[2], eigenvectors[3]):\n",
    "            if metadata.loc[label][\"host\"] == \"Animal\" and metadata.loc[label][\"habitat\"] == \"Marine\":\n",
    "                ax.scatter(x,y,z,c=\"C0\", marker=\".\")\n",
    "            if metadata.loc[label][\"host\"] == \"Animal\" and metadata.loc[label][\"habitat\"] == \"Riverine\":\n",
    "                ax.scatter(x,y,z,c=\"C1\", marker=\".\")\n",
    "            if metadata.loc[label][\"host\"] == \"Animal\" and metadata.loc[label][\"habitat\"] == \"Terrestrial\":\n",
    "                ax.scatter(x,y,z,c=\"C2\", marker=\".\")\n",
    "            if metadata.loc[label][\"host\"] == \"Nonhost\" and metadata.loc[label][\"habitat\"] == \"Marine\":\n",
    "                ax.scatter(x,y,z,c=\"C0\", marker=\"^\")\n",
    "            if metadata.loc[label][\"host\"] == \"Nonhost\" and metadata.loc[label][\"habitat\"] == \"Riverine\":\n",
    "                ax.scatter(x,y,z,c=\"C1\", marker=\"^\")\n",
    "            if metadata.loc[label][\"host\"] == \"Nonhost\" and metadata.loc[label][\"habitat\"] == \"Terrestrial\":\n",
    "                ax.scatter(x,y,z,c=\"C2\", marker=\"^\")\n",
    "            if metadata.loc[label][\"host\"] == \"Plant\" and metadata.loc[label][\"habitat\"] == \"Marine\":\n",
    "                ax.scatter(x,y,z,c=\"C0\", marker=\"s\")\n",
    "            if metadata.loc[label][\"host\"] == \"Plant\" and metadata.loc[label][\"habitat\"] == \"Riverine\":\n",
    "                ax.scatter(x,y,z,c=\"C1\", marker=\"s\")\n",
    "            if metadata.loc[label][\"host\"] == \"Plant\" and metadata.loc[label][\"habitat\"] == \"Terrestrial\":\n",
    "                ax.scatter(x,y,z,c=\"C2\", marker=\"s\")\n",
    "    elif color_descriptor == \"sites\":\n",
    "        for label, x, y, z in zip(labels, eigenvectors[1], eigenvectors[2], eigenvectors[3]):\n",
    "            if metadata.loc[label][\"site_name\"] == \"TwinRocks\":\n",
    "                ax.scatter(x,y,z,c=\"C0\")\n",
    "            if metadata.loc[label][\"site_name\"] == \"UppersBeach\":\n",
    "                ax.scatter(x,y,z,c=\"C1\")\n",
    "            if metadata.loc[label][\"site_name\"] == \"WaimeaBay\":\n",
    "                ax.scatter(x,y,z,c=\"C2\")\n",
    "            if metadata.loc[label][\"site_name\"] == \"ThreeTablesBeach\":\n",
    "                ax.scatter(x,y,z,c=\"C3\")\n",
    "            if metadata.loc[label][\"site_name\"] == \"SharksCove\":\n",
    "                ax.scatter(x,y,z,c=\"C4\")\n",
    "        custom_lines = [Line2D([0], [0], color=\"C0\", lw=4),\n",
    "                        Line2D([0], [0], color=\"C1\", lw=4),\n",
    "                        Line2D([0], [0], color=\"C2\", lw=4),\n",
    "                        Line2D([0], [0], color=\"C3\", lw=4),\n",
    "                        Line2D([0], [0], color=\"C4\", lw=4)]\n",
    "        ax.legend(custom_lines, ['TwinRocks', 'UppersBeach', 'WaimeaBay', 'ThreeTablesBeach', 'SharksCove'], loc =\"center left\", bbox_to_anchor=(-.1, 0))\n",
    "    elif color_descriptor == \"coral_type\":\n",
    "        for label, x, y, z in zip(labels, eigenvectors[1], eigenvectors[2], eigenvectors[3]):\n",
    "            if \"CoralType1A\" in metadata.loc[label][\"collection_label\"]:\n",
    "                ax.scatter(x,y,z,c=\"C0\")\n",
    "            elif \"CoralType1B\" in metadata.loc[label][\"collection_label\"]:\n",
    "                ax.scatter(x,y,z,c=\"C1\")\n",
    "            elif \"CoralType1C\" in metadata.loc[label][\"collection_label\"]:\n",
    "                ax.scatter(x,y,z,c=\"C2\")\n",
    "            elif \"CoralType2A\" in metadata.loc[label][\"collection_label\"]:\n",
    "                ax.scatter(x,y,z,c=\"C3\")\n",
    "            elif \"CoralType2B\" in metadata.loc[label][\"collection_label\"]:\n",
    "                ax.scatter(x,y,z,c=\"C4\")\n",
    "            elif \"CoralType2C\" in metadata.loc[label][\"collection_label\"]:\n",
    "                ax.scatter(x,y,z,c=\"C5\")\n",
    "            elif \"CoralType3A\" in metadata.loc[label][\"collection_label\"]:\n",
    "                ax.scatter(x,y,z,c=\"C6\")\n",
    "            elif \"CoralType3B\" in metadata.loc[label][\"collection_label\"]:\n",
    "                ax.scatter(x,y,z,c=\"C7\")\n",
    "            elif \"CoralType3C\" in metadata.loc[label][\"collection_label\"]:\n",
    "                ax.scatter(x,y,z,c=\"C8\")\n",
    "            custom_lines = [Line2D([0], [0], color=\"C0\", lw=4),\n",
    "                        Line2D([0], [0], color=\"C1\", lw=4),\n",
    "                        Line2D([0], [0], color=\"C2\", lw=4),\n",
    "                        Line2D([0], [0], color=\"C3\", lw=4),\n",
    "                        Line2D([0], [0], color=\"C4\", lw=4),\n",
    "                        Line2D([0], [0], color=\"C5\", lw=4),\n",
    "                        Line2D([0], [0], color=\"C6\", lw=4),\n",
    "                        Line2D([0], [0], color=\"C7\", lw=4),\n",
    "                        Line2D([0], [0], color=\"C8\", lw=4)]\n",
    "        ax.legend(custom_lines, [\"CoralType1A\", \"CoralType1B\", \"CoralType1C\", \"CoralType2A\", \"CoralType2B\", \"CoralType2C\", \"CoralType3A\", \"CoralType3B\", \"CoralType3C\"], loc =\"center left\", bbox_to_anchor=(-.1, 0))\n",
    "    elif color_descriptor == \"coral_type_non_specific\":\n",
    "        for label, x, y, z in zip(labels, eigenvectors[1], eigenvectors[2], eigenvectors[3]):\n",
    "            if \"CoralType1\" in metadata.loc[label][\"collection_label\"]:\n",
    "                ax.scatter(x,y,z,c=\"C0\")\n",
    "            elif \"CoralType2\" in metadata.loc[label][\"collection_label\"]:\n",
    "                ax.scatter(x,y,z,c=\"C1\")\n",
    "            elif \"CoralType3\" in metadata.loc[label][\"collection_label\"]:\n",
    "                ax.scatter(x,y,z,c=\"C2\")\n",
    "            custom_lines = [Line2D([0], [0], color=\"C0\", lw=4),\n",
    "                        Line2D([0], [0], color=\"C1\", lw=4),\n",
    "                        Line2D([0], [0], color=\"C2\", lw=4)]\n",
    "        ax.legend(custom_lines, [\"CoralType1\", \"CoralType2\", \"CoralType3\"], loc =\"center left\", bbox_to_anchor=(-.1, 0))\n",
    "    elif color_descriptor != None:\n",
    "        for color, x, y, z in zip(color_descriptor, eigenvectors[1], eigenvectors[2], eigenvectors[3]):\n",
    "            ax.scatter(x, y, z, c=color)\n",
    "    plt.title(title)\n",
    "    plt.show()\n",
    "    plt.savefig(f\"{figure_path}/{title}.png\")"
   ]
  },
  {
   "cell_type": "code",
   "execution_count": 65,
   "metadata": {},
   "outputs": [],
   "source": [
    "# Abundance & Presence Plots\n",
    "def abundence_hist(abundance_table, key, filterer):\n",
    "    filtered_metadata = metadata.loc[metadata[key] == filterer]\n",
    "    filtered_abundance = abundance_table.filter(\n",
    "            items=list(filtered_metadata.index), axis=0)\n",
    "    filtered_metadata = filtered_metadata.loc[filtered_abundance.index]\n",
    "    plt.figure()\n",
    "    plt.xlabel(\"Abundance\")\n",
    "    plt.ylabel(\"Samples\")\n",
    "    plt.title(f\"Abundance vs Samples {key.capitalize()} {filterer.capitalize()}\")\n",
    "    plt.hist(filtered_abundance[\"Abundance\"], bins=100)\n",
    "    plt.savefig(f\"{figure_path}/abundance_hist_{key}_{filterer}.png\")\n",
    "    plt.show()\n",
    "\n",
    "def presence_hist(abundance_table, key, filterer):\n",
    "    filtered_metadata = metadata.loc[metadata[key] == filterer]\n",
    "    filtered_abundance = abundance_table.filter(\n",
    "            items=list(filtered_metadata.index), axis=0)\n",
    "    filtered_metadata = filtered_metadata.loc[filtered_abundance.index]\n",
    "    plt.figure()\n",
    "    plt.xlabel(\"Presence\")\n",
    "    plt.ylabel(\"Samples\")\n",
    "    plt.title(f\"Presence vs Samples {key.capitalize()} {filterer.capitalize()}\")\n",
    "    plt.hist(filtered_abundance[\"Presence\"].loc[(filtered_abundance[\"Presence\"] != 0).any(1)], bins=100)\n",
    "    plt.savefig(f\"{figure_path}/presence_hist_{key}_{filterer}.png\")\n",
    "    plt.show()\n",
    "\n",
    "def presence_vs_abundance_scatter(abundance_table, key, filterer):\n",
    "    filtered_metadata = metadata.loc[metadata[key] == filterer]\n",
    "    filtered_abundance = abundance_table.filter(\n",
    "            items=list(filtered_metadata.index), axis=0)\n",
    "    filtered_metadata = filtered_metadata.loc[filtered_abundance.index]\n",
    "    plt.figure()\n",
    "    plt.xlabel(\"Presence\")\n",
    "    plt.ylabel(\"Abundance\")\n",
    "    plt.title(f\"Presence vs Abundance {key.capitalize()} {filterer.capitalize()}\")\n",
    "    plt.scatter(x=filtered_abundance[\"Presence\"], y=filtered_abundance[\"Abundance\"])\n",
    "    plt.savefig(f\"{figure_path}/presence_vs_abundance_scatter_{key}_{filterer}.png\")\n",
    "    plt.show()"
   ]
  },
  {
   "cell_type": "code",
   "execution_count": 64,
   "metadata": {},
   "outputs": [
    {
     "name": "stdout",
     "output_type": "stream",
     "text": [
      "Nonhost: 240\n",
      "Plant: 110\n",
      "Animal: 109\n"
     ]
    }
   ],
   "source": [
    "def trophic_counter(abundance_table, key, filterer):\n",
    "    filtered_metadata = metadata.loc[metadata[key] == filterer]\n",
    "    filtered_abundance = abundance_table.filter(\n",
    "            items=list(filtered_metadata.index), axis=0)\n",
    "    filtered_metadata = filtered_metadata.loc[filtered_abundance.index]\n",
    "    print(f\"{filterer}: {filtered_metadata.shape[0]}\")\n",
    "\n",
    "trophic_counter(abundance_table, \"host\", \"Nonhost\")\n",
    "trophic_counter(abundance_table, \"host\", \"Plant\")\n",
    "trophic_counter(abundance_table, \"host\", \"Animal\")"
   ]
  },
  {
   "cell_type": "code",
   "execution_count": 33,
   "metadata": {},
   "outputs": [
    {
     "name": "stdout",
     "output_type": "stream",
     "text": [
      "Null: 14\n"
     ]
    }
   ],
   "source": [
    "def trophic_counter(abundance_table, key, filterer):\n",
    "    filtered_metadata = metadata.loc[metadata[key].isna()]\n",
    "    filtered_abundance = abundance_table.filter(\n",
    "            items=list(filtered_metadata.index), axis=0)\n",
    "    filtered_metadata = filtered_metadata.loc[filtered_abundance.index]\n",
    "    print(f\"{filterer}: {filtered_metadata.shape[0]}\")\n",
    "    \n",
    "trophic_counter(abundance_table, \"trophic\", \"Null\")"
   ]
  },
  {
   "cell_type": "code",
   "execution_count": 34,
   "metadata": {},
   "outputs": [
    {
     "data": {
      "text/plain": [
       "556"
      ]
     },
     "execution_count": 34,
     "metadata": {},
     "output_type": "execute_result"
    }
   ],
   "source": [
    "metadata.shape[0]"
   ]
  },
  {
   "cell_type": "code",
   "execution_count": 26,
   "metadata": {},
   "outputs": [
    {
     "name": "stdout",
     "output_type": "stream",
     "text": [
      "Carnivore: 34\n",
      "Herbivore: 39\n",
      "PrimaryProducer: 146\n",
      "Environmental: 240\n",
      "NaN: 0\n"
     ]
    }
   ],
   "source": [
    "trophic_counter(abundance_table, \"trophic\", \"Carnivore\")\n",
    "trophic_counter(abundance_table, \"trophic\", \"Herbivore\")\n",
    "trophic_counter(abundance_table, \"trophic\", \"PrimaryProducer\")\n",
    "trophic_counter(abundance_table, \"trophic\", \"Environmental\")"
   ]
  },
  {
   "cell_type": "code",
   "execution_count": 29,
   "metadata": {},
   "outputs": [
    {
     "name": "stdout",
     "output_type": "stream",
     "text": [
      "run                      Miseq04_16S\n",
      "index                   TGTCAAAGTGAC\n",
      "sample_barcode                   833\n",
      "locus                   bacterial16S\n",
      "primer_plate                       1\n",
      "primer_row                         H\n",
      "primer_col                        12\n",
      "extraction_well                  G12\n",
      "forward_primer                  515f\n",
      "reverse_primer                  806r\n",
      "primer_name                515rcbc83\n",
      "sample_id           WMEA_00833_NA_NA\n",
      "collection_label         PCRNegative\n",
      "project                SuperTransect\n",
      "site_order                       NaN\n",
      "site_code                        NaN\n",
      "site_name                        Lab\n",
      "transect_name                    NaN\n",
      "collection_date                  NaN\n",
      "sample_type              PCRNegative\n",
      "habitat                          NaN\n",
      "host                             NaN\n",
      "trophic                          NaN\n",
      "site_type                        NaN\n",
      "metadata                         NaN\n",
      "lat                              NaN\n",
      "long                             NaN\n",
      "processing                       NaN\n",
      "notes                            NaN\n",
      "ExtraClassifier                  NaN\n",
      "Name: 105175, dtype: object\n"
     ]
    }
   ],
   "source": [
    "print(metadata.loc[105175])"
   ]
  },
  {
   "cell_type": "code",
   "execution_count": 9,
   "metadata": {},
   "outputs": [
    {
     "data": {
      "text/plain": [
       "'\\nabundence_hist(abundance_table, \"sample_type\", \"Coral\")\\npresence_hist(abundance_table, \"sample_type\", \"Coral\")\\npresence_vs_abundance_scatter(abundance_table, \"sample_type\", \"Coral\")\\nabundence_hist(abundance_table, \"sample_type\", \"Drosophila\")\\npresence_hist(abundance_table, \"sample_type\", \"Drosophila\")\\npresence_vs_abundance_scatter(abundance_table, \"sample_type\", \"Drosophila\")\\n'"
      ]
     },
     "execution_count": 9,
     "metadata": {},
     "output_type": "execute_result"
    }
   ],
   "source": [
    "abundence_hist(abundance_table, \"sample_type\", \"Mosquito\")\n",
    "presence_hist(abundance_table, \"sample_type\", \"Mosquito\")\n",
    "presence_vs_abundance_scatter(abundance_table, \"sample_type\", \"Mosqitio\")\n",
    "\n",
    "\"\"\"\n",
    "abundence_hist(abundance_table, \"sample_type\", \"Coral\")\n",
    "presence_hist(abundance_table, \"sample_type\", \"Coral\")\n",
    "presence_vs_abundance_scatter(abundance_table, \"sample_type\", \"Coral\")\n",
    "abundence_hist(abundance_table, \"sample_type\", \"Drosophila\")\n",
    "presence_hist(abundance_table, \"sample_type\", \"Drosophila\")\n",
    "presence_vs_abundance_scatter(abundance_table, \"sample_type\", \"Drosophila\")\n",
    "\"\"\""
   ]
  },
  {
   "cell_type": "code",
   "execution_count": 14,
   "metadata": {},
   "outputs": [
    {
     "data": {
      "text/plain": [
       "'\\nabundence_hist(abundance_table, \"sample_type\", \"Coral\")\\npresence_hist(abundance_table, \"sample_type\", \"Coral\")\\npresence_vs_abundance_scatter(abundance_table, \"sample_type\", \"Coral\")\\nabundence_hist(abundance_table, \"sample_type\", \"Drosophila\")\\npresence_hist(abundance_table, \"sample_type\", \"Drosophila\")\\npresence_vs_abundance_scatter(abundance_table, \"sample_type\", \"Drosophila\")\\n'"
      ]
     },
     "execution_count": 14,
     "metadata": {},
     "output_type": "execute_result"
    }
   ],
   "source": [
    "abundence_hist(abundance_table, \"trophic\", \"Herbivore\")\n",
    "presence_hist(abundance_table, \"trophic\", \"Herbivore\")\n",
    "presence_vs_abundance_scatter(abundance_table, \"trophic\", \"Herbivore\")\n",
    "\n",
    "\"\"\"\n",
    "abundence_hist(abundance_table, \"sample_type\", \"Coral\")\n",
    "presence_hist(abundance_table, \"sample_type\", \"Coral\")\n",
    "presence_vs_abundance_scatter(abundance_table, \"sample_type\", \"Coral\")\n",
    "abundence_hist(abundance_table, \"sample_type\", \"Drosophila\")\n",
    "presence_hist(abundance_table, \"sample_type\", \"Drosophila\")\n",
    "presence_vs_abundance_scatter(abundance_table, \"sample_type\", \"Drosophila\")\n",
    "\"\"\""
   ]
  },
  {
   "cell_type": "code",
   "execution_count": 10,
   "metadata": {},
   "outputs": [
    {
     "data": {
      "text/html": [
       "<div>\n",
       "<style scoped>\n",
       "    .dataframe tbody tr th:only-of-type {\n",
       "        vertical-align: middle;\n",
       "    }\n",
       "\n",
       "    .dataframe tbody tr th {\n",
       "        vertical-align: top;\n",
       "    }\n",
       "\n",
       "    .dataframe thead th {\n",
       "        text-align: right;\n",
       "    }\n",
       "</style>\n",
       "<table border=\"1\" class=\"dataframe\">\n",
       "  <thead>\n",
       "    <tr style=\"text-align: right;\">\n",
       "      <th></th>\n",
       "      <th>Otu00003</th>\n",
       "      <th>Otu00004</th>\n",
       "      <th>Otu00005</th>\n",
       "      <th>Otu00006</th>\n",
       "      <th>Otu00007</th>\n",
       "      <th>Otu00008</th>\n",
       "      <th>Otu00009</th>\n",
       "      <th>Otu00010</th>\n",
       "      <th>Otu00011</th>\n",
       "      <th>Otu00012</th>\n",
       "      <th>...</th>\n",
       "      <th>Otu25365</th>\n",
       "      <th>Otu25380</th>\n",
       "      <th>Otu25387</th>\n",
       "      <th>Otu25399</th>\n",
       "      <th>Otu25438</th>\n",
       "      <th>Otu25456</th>\n",
       "      <th>Otu25470</th>\n",
       "      <th>Otu25476</th>\n",
       "      <th>Abundance</th>\n",
       "      <th>Presence</th>\n",
       "    </tr>\n",
       "  </thead>\n",
       "  <tbody>\n",
       "    <tr>\n",
       "      <th>105635</th>\n",
       "      <td>3</td>\n",
       "      <td>0</td>\n",
       "      <td>0</td>\n",
       "      <td>0</td>\n",
       "      <td>0</td>\n",
       "      <td>0</td>\n",
       "      <td>0</td>\n",
       "      <td>0</td>\n",
       "      <td>0</td>\n",
       "      <td>0</td>\n",
       "      <td>...</td>\n",
       "      <td>0</td>\n",
       "      <td>0</td>\n",
       "      <td>0</td>\n",
       "      <td>0</td>\n",
       "      <td>0</td>\n",
       "      <td>0</td>\n",
       "      <td>0</td>\n",
       "      <td>0</td>\n",
       "      <td>3660</td>\n",
       "      <td>377</td>\n",
       "    </tr>\n",
       "    <tr>\n",
       "      <th>105631</th>\n",
       "      <td>4</td>\n",
       "      <td>0</td>\n",
       "      <td>0</td>\n",
       "      <td>0</td>\n",
       "      <td>0</td>\n",
       "      <td>0</td>\n",
       "      <td>12</td>\n",
       "      <td>0</td>\n",
       "      <td>0</td>\n",
       "      <td>0</td>\n",
       "      <td>...</td>\n",
       "      <td>0</td>\n",
       "      <td>0</td>\n",
       "      <td>0</td>\n",
       "      <td>3</td>\n",
       "      <td>0</td>\n",
       "      <td>0</td>\n",
       "      <td>0</td>\n",
       "      <td>0</td>\n",
       "      <td>3682</td>\n",
       "      <td>215</td>\n",
       "    </tr>\n",
       "    <tr>\n",
       "      <th>105629</th>\n",
       "      <td>0</td>\n",
       "      <td>0</td>\n",
       "      <td>0</td>\n",
       "      <td>0</td>\n",
       "      <td>0</td>\n",
       "      <td>0</td>\n",
       "      <td>0</td>\n",
       "      <td>0</td>\n",
       "      <td>7</td>\n",
       "      <td>0</td>\n",
       "      <td>...</td>\n",
       "      <td>0</td>\n",
       "      <td>0</td>\n",
       "      <td>0</td>\n",
       "      <td>0</td>\n",
       "      <td>0</td>\n",
       "      <td>0</td>\n",
       "      <td>0</td>\n",
       "      <td>0</td>\n",
       "      <td>3696</td>\n",
       "      <td>156</td>\n",
       "    </tr>\n",
       "    <tr>\n",
       "      <th>105617</th>\n",
       "      <td>1</td>\n",
       "      <td>0</td>\n",
       "      <td>0</td>\n",
       "      <td>0</td>\n",
       "      <td>0</td>\n",
       "      <td>0</td>\n",
       "      <td>0</td>\n",
       "      <td>0</td>\n",
       "      <td>0</td>\n",
       "      <td>0</td>\n",
       "      <td>...</td>\n",
       "      <td>0</td>\n",
       "      <td>0</td>\n",
       "      <td>0</td>\n",
       "      <td>0</td>\n",
       "      <td>0</td>\n",
       "      <td>0</td>\n",
       "      <td>0</td>\n",
       "      <td>0</td>\n",
       "      <td>3694</td>\n",
       "      <td>182</td>\n",
       "    </tr>\n",
       "    <tr>\n",
       "      <th>105615</th>\n",
       "      <td>0</td>\n",
       "      <td>0</td>\n",
       "      <td>0</td>\n",
       "      <td>0</td>\n",
       "      <td>0</td>\n",
       "      <td>0</td>\n",
       "      <td>0</td>\n",
       "      <td>0</td>\n",
       "      <td>0</td>\n",
       "      <td>0</td>\n",
       "      <td>...</td>\n",
       "      <td>0</td>\n",
       "      <td>0</td>\n",
       "      <td>0</td>\n",
       "      <td>0</td>\n",
       "      <td>0</td>\n",
       "      <td>0</td>\n",
       "      <td>0</td>\n",
       "      <td>0</td>\n",
       "      <td>3661</td>\n",
       "      <td>250</td>\n",
       "    </tr>\n",
       "    <tr>\n",
       "      <th>...</th>\n",
       "      <td>...</td>\n",
       "      <td>...</td>\n",
       "      <td>...</td>\n",
       "      <td>...</td>\n",
       "      <td>...</td>\n",
       "      <td>...</td>\n",
       "      <td>...</td>\n",
       "      <td>...</td>\n",
       "      <td>...</td>\n",
       "      <td>...</td>\n",
       "      <td>...</td>\n",
       "      <td>...</td>\n",
       "      <td>...</td>\n",
       "      <td>...</td>\n",
       "      <td>...</td>\n",
       "      <td>...</td>\n",
       "      <td>...</td>\n",
       "      <td>...</td>\n",
       "      <td>...</td>\n",
       "      <td>...</td>\n",
       "      <td>...</td>\n",
       "    </tr>\n",
       "    <tr>\n",
       "      <th>105246</th>\n",
       "      <td>2444</td>\n",
       "      <td>0</td>\n",
       "      <td>0</td>\n",
       "      <td>0</td>\n",
       "      <td>1201</td>\n",
       "      <td>0</td>\n",
       "      <td>0</td>\n",
       "      <td>0</td>\n",
       "      <td>0</td>\n",
       "      <td>0</td>\n",
       "      <td>...</td>\n",
       "      <td>0</td>\n",
       "      <td>0</td>\n",
       "      <td>0</td>\n",
       "      <td>0</td>\n",
       "      <td>0</td>\n",
       "      <td>0</td>\n",
       "      <td>0</td>\n",
       "      <td>0</td>\n",
       "      <td>3697</td>\n",
       "      <td>19</td>\n",
       "    </tr>\n",
       "    <tr>\n",
       "      <th>105200</th>\n",
       "      <td>2072</td>\n",
       "      <td>0</td>\n",
       "      <td>0</td>\n",
       "      <td>0</td>\n",
       "      <td>1593</td>\n",
       "      <td>0</td>\n",
       "      <td>0</td>\n",
       "      <td>0</td>\n",
       "      <td>0</td>\n",
       "      <td>0</td>\n",
       "      <td>...</td>\n",
       "      <td>0</td>\n",
       "      <td>0</td>\n",
       "      <td>0</td>\n",
       "      <td>0</td>\n",
       "      <td>0</td>\n",
       "      <td>0</td>\n",
       "      <td>0</td>\n",
       "      <td>0</td>\n",
       "      <td>3698</td>\n",
       "      <td>14</td>\n",
       "    </tr>\n",
       "    <tr>\n",
       "      <th>105153</th>\n",
       "      <td>1993</td>\n",
       "      <td>0</td>\n",
       "      <td>0</td>\n",
       "      <td>43</td>\n",
       "      <td>1499</td>\n",
       "      <td>0</td>\n",
       "      <td>20</td>\n",
       "      <td>0</td>\n",
       "      <td>0</td>\n",
       "      <td>0</td>\n",
       "      <td>...</td>\n",
       "      <td>0</td>\n",
       "      <td>0</td>\n",
       "      <td>0</td>\n",
       "      <td>0</td>\n",
       "      <td>0</td>\n",
       "      <td>0</td>\n",
       "      <td>0</td>\n",
       "      <td>0</td>\n",
       "      <td>3700</td>\n",
       "      <td>51</td>\n",
       "    </tr>\n",
       "    <tr>\n",
       "      <th>105132</th>\n",
       "      <td>3622</td>\n",
       "      <td>0</td>\n",
       "      <td>0</td>\n",
       "      <td>0</td>\n",
       "      <td>66</td>\n",
       "      <td>0</td>\n",
       "      <td>0</td>\n",
       "      <td>0</td>\n",
       "      <td>0</td>\n",
       "      <td>0</td>\n",
       "      <td>...</td>\n",
       "      <td>0</td>\n",
       "      <td>0</td>\n",
       "      <td>0</td>\n",
       "      <td>0</td>\n",
       "      <td>0</td>\n",
       "      <td>0</td>\n",
       "      <td>0</td>\n",
       "      <td>0</td>\n",
       "      <td>3700</td>\n",
       "      <td>7</td>\n",
       "    </tr>\n",
       "    <tr>\n",
       "      <th>105092</th>\n",
       "      <td>2692</td>\n",
       "      <td>0</td>\n",
       "      <td>0</td>\n",
       "      <td>0</td>\n",
       "      <td>933</td>\n",
       "      <td>0</td>\n",
       "      <td>0</td>\n",
       "      <td>0</td>\n",
       "      <td>0</td>\n",
       "      <td>2</td>\n",
       "      <td>...</td>\n",
       "      <td>0</td>\n",
       "      <td>0</td>\n",
       "      <td>0</td>\n",
       "      <td>0</td>\n",
       "      <td>0</td>\n",
       "      <td>0</td>\n",
       "      <td>0</td>\n",
       "      <td>0</td>\n",
       "      <td>3700</td>\n",
       "      <td>16</td>\n",
       "    </tr>\n",
       "  </tbody>\n",
       "</table>\n",
       "<p>109 rows × 14837 columns</p>\n",
       "</div>"
      ],
      "text/plain": [
       "        Otu00003  Otu00004  Otu00005  Otu00006  Otu00007  Otu00008  Otu00009  \\\n",
       "105635         3         0         0         0         0         0         0   \n",
       "105631         4         0         0         0         0         0        12   \n",
       "105629         0         0         0         0         0         0         0   \n",
       "105617         1         0         0         0         0         0         0   \n",
       "105615         0         0         0         0         0         0         0   \n",
       "...          ...       ...       ...       ...       ...       ...       ...   \n",
       "105246      2444         0         0         0      1201         0         0   \n",
       "105200      2072         0         0         0      1593         0         0   \n",
       "105153      1993         0         0        43      1499         0        20   \n",
       "105132      3622         0         0         0        66         0         0   \n",
       "105092      2692         0         0         0       933         0         0   \n",
       "\n",
       "        Otu00010  Otu00011  Otu00012  ...  Otu25365  Otu25380  Otu25387  \\\n",
       "105635         0         0         0  ...         0         0         0   \n",
       "105631         0         0         0  ...         0         0         0   \n",
       "105629         0         7         0  ...         0         0         0   \n",
       "105617         0         0         0  ...         0         0         0   \n",
       "105615         0         0         0  ...         0         0         0   \n",
       "...          ...       ...       ...  ...       ...       ...       ...   \n",
       "105246         0         0         0  ...         0         0         0   \n",
       "105200         0         0         0  ...         0         0         0   \n",
       "105153         0         0         0  ...         0         0         0   \n",
       "105132         0         0         0  ...         0         0         0   \n",
       "105092         0         0         2  ...         0         0         0   \n",
       "\n",
       "        Otu25399  Otu25438  Otu25456  Otu25470  Otu25476  Abundance  Presence  \n",
       "105635         0         0         0         0         0       3660       377  \n",
       "105631         3         0         0         0         0       3682       215  \n",
       "105629         0         0         0         0         0       3696       156  \n",
       "105617         0         0         0         0         0       3694       182  \n",
       "105615         0         0         0         0         0       3661       250  \n",
       "...          ...       ...       ...       ...       ...        ...       ...  \n",
       "105246         0         0         0         0         0       3697        19  \n",
       "105200         0         0         0         0         0       3698        14  \n",
       "105153         0         0         0         0         0       3700        51  \n",
       "105132         0         0         0         0         0       3700         7  \n",
       "105092         0         0         0         0         0       3700        16  \n",
       "\n",
       "[109 rows x 14837 columns]"
      ]
     },
     "execution_count": 10,
     "metadata": {},
     "output_type": "execute_result"
    }
   ],
   "source": [
    "key = \"host\"\n",
    "filterer = \"Animal\"\n",
    "filtered_metadata = metadata.loc[metadata[key] == filterer]\n",
    "filtered_abundance = abundance_table.filter(\n",
    "        items=list(filtered_metadata.index), axis=0)\n",
    "filtered_metadata = filtered_metadata.loc[filtered_abundance.index]\n",
    "filtered_abundance"
   ]
  },
  {
   "cell_type": "code",
   "execution_count": 6,
   "metadata": {},
   "outputs": [],
   "source": [
    "# Filtering function\n",
    "def filtered_data(key, filterer, dropper = None):\n",
    "    filtered_metadata = metadata.loc[metadata[key] == filterer]\n",
    "    if dropper == None:\n",
    "        filtered_abundance = abundance_table.filter(\n",
    "            items=list(filtered_metadata.index), axis=0).drop([\"Abundance\", \"Presence\"],axis=1)\n",
    "    if dropper != None:\n",
    "        filtered_abundance = abundance_table.filter(\n",
    "            items=list(filtered_metadata.index), axis=0).drop([\"Abundance\", \"Presence\"],axis=1).drop(dropper, axis=0)\n",
    "    filtered_metadata = filtered_metadata.loc[filtered_abundance.index]\n",
    "    return filtered_abundance, filtered_metadata"
   ]
  },
  {
   "cell_type": "code",
   "execution_count": 11,
   "metadata": {},
   "outputs": [],
   "source": [
    "# Filtering Based on Drosophila\n",
    "filtered_abundance, filtered_metadata  = filtered_data(\"host\", \"Animal\")\n",
    "#filtered_metadata.to_csv(\"./animal.csv\")\n",
    "eigenvectors, filtered_abundance_index = abundance_to_eigenvector(filtered_abundance, pandas_mode = True)\n",
    "eigenvector_to_plot(eigenvectors, filtered_metadata, \"Animal Generalized Eigenvectors\")"
   ]
  },
  {
   "cell_type": "code",
   "execution_count": 7,
   "metadata": {},
   "outputs": [
    {
     "name": "stderr",
     "output_type": "stream",
     "text": [
      "/home/zjabbar/.local/lib/python3.8/site-packages/scipy/sparse/linalg/eigen/arpack/arpack.py:1267: RuntimeWarning: k >= N - 1 for N * N square matrix. Attempting to use scipy.linalg.eig instead.\n",
      "  warnings.warn(\"k >= N - 1 for N * N square matrix. \"\n"
     ]
    },
    {
     "data": {
      "application/vnd.jupyter.widget-view+json": {
       "model_id": "8d269ecaa6164a7eb5a1886280e37bf0",
       "version_major": 2,
       "version_minor": 0
      },
      "text/plain": [
       "Canvas(toolbar=Toolbar(toolitems=[('Home', 'Reset original view', 'home', 'home'), ('Back', 'Back to previous …"
      ]
     },
     "metadata": {},
     "output_type": "display_data"
    }
   ],
   "source": [
    "# Filtering Based on Drosophila\n",
    "filtered_abundance, filtered_metadata  = filtered_data(\"sample_type\", \"Drosophila\")\n",
    "eigenvectors, filtered_abundance_index = abundance_to_eigenvector(filtered_abundance, pandas_mode = True)\n",
    "eigenvector_to_plot(eigenvectors, filtered_metadata, \"Drosophila Generalized Eigenvectors\")"
   ]
  },
  {
   "cell_type": "code",
   "execution_count": null,
   "metadata": {},
   "outputs": [],
   "source": [
    "# Filtering Based on Drosophila\n",
    "filtered_abundance, filtered_metadata  = filtered_data(\"sample_type\", \"Drosophila\")\n",
    "eigenvectors, filtered_abundance_index = abundance_to_eigenvector(filtered_abundance, pandas_mode = True)\n",
    "eigenvector_to_plot(eigenvectors, filtered_metadata, \"Drosophila Generalized Eigenvectors\")"
   ]
  },
  {
   "cell_type": "code",
   "execution_count": 7,
   "metadata": {},
   "outputs": [
    {
     "name": "stderr",
     "output_type": "stream",
     "text": [
      "/home/zjabbar/.local/lib/python3.8/site-packages/scipy/sparse/linalg/eigen/arpack/arpack.py:1267: RuntimeWarning: k >= N - 1 for N * N square matrix. Attempting to use scipy.linalg.eig instead.\n",
      "  warnings.warn(\"k >= N - 1 for N * N square matrix. \"\n"
     ]
    }
   ],
   "source": [
    "# Filtering Based on Coral\n",
    "filtered_abundance, filtered_metadata  = filtered_data(\"sample_type\", \"Coral\")\n",
    "eigenvectors, filtered_abundance_index = abundance_to_eigenvector(filtered_abundance, pandas_mode = True)\n",
    "eigenvector_to_plot(eigenvectors, filtered_metadata, \"Coral Generalized Eigenvectors\", color_descriptor=\"coral_type_non_specific\") # 105467, 105548; 105566"
   ]
  },
  {
   "cell_type": "code",
   "execution_count": 9,
   "metadata": {},
   "outputs": [
    {
     "name": "stderr",
     "output_type": "stream",
     "text": [
      "/home/zjabbar/.local/lib/python3.8/site-packages/scipy/sparse/linalg/eigen/arpack/arpack.py:1267: RuntimeWarning: k >= N - 1 for N * N square matrix. Attempting to use scipy.linalg.eig instead.\n",
      "  warnings.warn(\"k >= N - 1 for N * N square matrix. \"\n"
     ]
    },
    {
     "data": {
      "application/vnd.jupyter.widget-view+json": {
       "model_id": "d5e9054c63a84cdfba3e57b44d01ee74",
       "version_major": 2,
       "version_minor": 0
      },
      "text/plain": [
       "Canvas(toolbar=Toolbar(toolitems=[('Home', 'Reset original view', 'home', 'home'), ('Back', 'Back to previous …"
      ]
     },
     "metadata": {},
     "output_type": "display_data"
    }
   ],
   "source": [
    "# Filtering Based on Mosquito\n",
    "filtered_abundance, filtered_metadata  = filtered_data(\"sample_type\", \"Mosquito\")\n",
    "eigenvectors, filtered_abundance_index = abundance_to_eigenvector(filtered_abundance, pandas_mode = True)\n",
    "eigenvector_to_plot(eigenvectors, filtered_metadata, \"Mosquito Generalized Eigenvectors\")"
   ]
  },
  {
   "cell_type": "code",
   "execution_count": 12,
   "metadata": {},
   "outputs": [
    {
     "name": "stderr",
     "output_type": "stream",
     "text": [
      "/home/zjabbar/.local/lib/python3.8/site-packages/scipy/sparse/linalg/eigen/arpack/arpack.py:1267: RuntimeWarning: k >= N - 1 for N * N square matrix. Attempting to use scipy.linalg.eig instead.\n",
      "  warnings.warn(\"k >= N - 1 for N * N square matrix. \"\n"
     ]
    },
    {
     "data": {
      "application/vnd.jupyter.widget-view+json": {
       "model_id": "06fdb8826c0d4cdb9f5231696c671a4a",
       "version_major": 2,
       "version_minor": 0
      },
      "text/plain": [
       "Canvas(toolbar=Toolbar(toolitems=[('Home', 'Reset original view', 'home', 'home'), ('Back', 'Back to previous …"
      ]
     },
     "metadata": {},
     "output_type": "display_data"
    }
   ],
   "source": [
    "# Filtering Based on Mosquito\n",
    "filtered_abundance, filtered_metadata  = filtered_data(\"sample_type\", \"Mosquito\", dropper = [105279, 105525, 105502])\n",
    "eigenvectors, filtered_abundance_index = abundance_to_eigenvector(filtered_abundance, pandas_mode = True)\n",
    "eigenvector_to_plot(eigenvectors, filtered_metadata, \"Mosquito Generalized Eigenvectors Dropped 3\")"
   ]
  },
  {
   "cell_type": "code",
   "execution_count": 13,
   "metadata": {},
   "outputs": [
    {
     "name": "stderr",
     "output_type": "stream",
     "text": [
      "/home/zjabbar/.local/lib/python3.8/site-packages/scipy/sparse/linalg/eigen/arpack/arpack.py:1267: RuntimeWarning: k >= N - 1 for N * N square matrix. Attempting to use scipy.linalg.eig instead.\n",
      "  warnings.warn(\"k >= N - 1 for N * N square matrix. \"\n"
     ]
    },
    {
     "data": {
      "application/vnd.jupyter.widget-view+json": {
       "model_id": "f3f6c49e237e4ba0acdc98460bf89473",
       "version_major": 2,
       "version_minor": 0
      },
      "text/plain": [
       "Canvas(toolbar=Toolbar(toolitems=[('Home', 'Reset original view', 'home', 'home'), ('Back', 'Back to previous …"
      ]
     },
     "metadata": {},
     "output_type": "display_data"
    }
   ],
   "source": [
    "# Using All Data\n",
    "filtered_abundance, filtered_metadata  = abundance_table, metadata\n",
    "eigenvectors, filtered_abundance_index = abundance_to_eigenvector(filtered_abundance, pandas_mode = True)\n",
    "eigenvector_to_plot(eigenvectors, filtered_metadata, \"All Generalized Eigenvectors\", color_descriptor=\"standard\")"
   ]
  },
  {
   "cell_type": "code",
   "execution_count": 15,
   "metadata": {},
   "outputs": [
    {
     "name": "stdout",
     "output_type": "stream",
     "text": [
      "(7.122827492742301e-17, 0.046944116676849966, 0.09231920771186891, 0.18020807529211777, 0.20869946874320458, 0.21922528976029013, 0.2264191845123947, 0.2552085875211022, 0.26208904209463413, 0.2653555555560466, 0.27512096631898186, 0.2886399693441487, 0.2981694290761307, 0.2988882139228235, 0.3147541773461532, 0.3322502975204712, 0.37661916908992743, 0.4096446983643368, 0.41772924092373626, 0.4217014217174079, 0.42874007661538915, 0.4495485520239819, 0.4495919809017021, 0.4844033501092248, 0.5338391298487144, 0.5508320854844418, 0.5538325866712612, 0.5583440176790819, 0.5619421551577596, 0.5753929949326224, 0.5856604786148532, 0.5924463009218793, 0.6175279677711993, 0.6191451873943254, 0.6256556608386664, 0.6339582868183785, 0.6356532633440748, 0.6444401572787455, 0.6485934803064693, 0.6524378700981794, 0.6628950333630925, 0.6651950786718133, 0.6704881955858996, 0.6862548193431917, 0.695733544970987, 0.7032147648153609, 0.7119702223524846, 0.7222170319390918, 0.7268390680556731, 0.7273269571272762, 0.7319359284259288, 0.7348478899007114, 0.7364659331087887, 0.7433492404006247, 0.7521757166316492, 0.7562170312783553, 0.7604811718018598, 0.7641100164884808, 0.7738326341375739, 0.7901356495768753, 0.8113266873946329, 0.8160116956247987, 0.8188447018086794, 0.8202401935200212, 0.8269491377789365, 0.8280962379980528, 0.8317409487737292, 0.841535184478352, 0.8462158499408471, 0.8494357243061543, 0.857542126757387, 0.8689859080223242, 0.8750477973466401, 0.8917426695848133, 0.8930169219095888, 0.9083093802431804, 0.9145517759898774, 0.9269769638374851, 0.938806071442581, 0.9412243563227786, 0.955900776983072, 0.9589386093316508, 0.9699115275986433, 0.973108189373404, 0.9790431204012678, 0.9803260584112776, 0.9908133406297305, 0.992234623788295, 0.9954039393056174, 0.9969217681862744, 0.9980624748104231, 0.9988793712522505, 0.9994046008160377, 0.9995905137109473, 0.9996732410293664, 0.9998424560079932, 0.9998686591931947, 0.9999458129345813, 0.9999525856918411, 0.999989544858425, 1.00001362418099, 1.0000491745105344, 1.000090855304784, 1.0001151036949927, 1.0003958779217696, 1.0006270315216703, 1.0009652284269812, 1.002012616742433, 1.0039635086562475)\n"
     ]
    },
    {
     "name": "stderr",
     "output_type": "stream",
     "text": [
      "/home/zjabbar/.local/lib/python3.8/site-packages/scipy/sparse/linalg/eigen/arpack/arpack.py:1267: RuntimeWarning: k >= N - 1 for N * N square matrix. Attempting to use scipy.linalg.eig instead.\n",
      "  warnings.warn(\"k >= N - 1 for N * N square matrix. \"\n"
     ]
    },
    {
     "data": {
      "application/vnd.jupyter.widget-view+json": {
       "model_id": "755d941a215a491cbe41e522705696b0",
       "version_major": 2,
       "version_minor": 0
      },
      "text/plain": [
       "Canvas(toolbar=Toolbar(toolitems=[('Home', 'Reset original view', 'home', 'home'), ('Back', 'Back to previous …"
      ]
     },
     "metadata": {},
     "output_type": "display_data"
    },
    {
     "data": {
      "text/plain": [
       "[<matplotlib.lines.Line2D at 0x7f96fcedf1c0>]"
      ]
     },
     "execution_count": 15,
     "metadata": {},
     "output_type": "execute_result"
    }
   ],
   "source": [
    "# Eigenvalues\n",
    "filtered_abundance, filtered_metadata  = filtered_data(\"host\", \"Animal\")\n",
    "eigenvectors, filtered_abundance_index, eigenvalues = abundance_to_eigenvector(filtered_abundance)\n",
    "print(eigenvalues)\n",
    "plt.figure()\n",
    "plt.title = \"Eigenvalues\"\n",
    "plt.plot(eigenvalues, linestyle=\"\", marker=\".\")"
   ]
  },
  {
   "cell_type": "code",
   "execution_count": 14,
   "metadata": {},
   "outputs": [],
   "source": [
    "carnivore_metadata = metadata.loc[metadata[\"trophic\"] == \"Carnivore\"]\n",
    "carnivore_abundance = abundance_table.filter(\n",
    "    items=list(carnivore_metadata.index), axis=0)\n",
    "carnivore_metadata = carnivore_metadata.loc[carnivore_abundance.index]\n",
    "    \n",
    "herbivore_metadata = metadata.loc[metadata[\"trophic\"] == \"Herbivore\"]\n",
    "herbivore_abundance = abundance_table.filter(\n",
    "    items=list(herbivore_metadata.index), axis=0)\n",
    "herbivore_metadata = herbivore_metadata.loc[herbivore_abundance.index]\n",
    "    \n",
    "environmental_metadata = metadata.loc[metadata[\"trophic\"] == \"Environmental\"]\n",
    "environmental_abundance = abundance_table.filter(\n",
    "    items=list(environmental_metadata.index), axis=0)\n",
    "environmental_metadata = environmental_metadata.loc[environmental_abundance.index]\n",
    "    \n",
    "primary_metadata = metadata.loc[metadata[\"trophic\"] == \"PrimaryProducer\"]\n",
    "primary_abundance = abundance_table.filter(\n",
    "    items=list(primary_metadata.index), axis=0)\n",
    "primary_metadata = primary_metadata.loc[primary_abundance.index]"
   ]
  },
  {
   "cell_type": "code",
   "execution_count": 39,
   "metadata": {},
   "outputs": [],
   "source": [
    "# Abundance & Presence Plots\n",
    "def all_abundence_hist(abundance_table):\n",
    "    plt.figure()\n",
    "    plt.xlabel(\"Abundance\")\n",
    "    plt.ylabel(\"Samples\")\n",
    "    plt.title(f\"Abundance vs Samples by Trophic Level\")\n",
    "    plt.hist(carnivore_abundance[\"Abundance\"], alpha=0.5, bins=100, label=\"Carnivore\")\n",
    "    plt.hist(herbivore_abundance[\"Abundance\"], alpha=0.5, bins=100, label=\"Herbivore\")\n",
    "    plt.hist(environmental_abundance[\"Abundance\"], alpha=0.5, bins=100, label=\"Environmental\")\n",
    "    plt.hist(primary_abundance[\"Abundance\"], alpha=0.5, bins=100, label=\"Primary Producer\")\n",
    "    plt.legend(loc=\"upper left\")\n",
    "    plt.savefig(f\"{figure_path}/abundance_hist_all.png\")\n",
    "    plt.show()\n",
    "\n",
    "def all_presence_hist(abundance_table):\n",
    "    plt.figure()\n",
    "    plt.xlabel(\"Presence\")\n",
    "    plt.ylabel(\"Samples\")\n",
    "    plt.title(f\"Presence vs Samples by Trophic Level\")\n",
    "    plt.hist(carnivore_abundance[\"Presence\"], alpha=0.5, bins=100, label=\"Carnivore\")\n",
    "    plt.hist(herbivore_abundance[\"Presence\"], alpha=0.5, bins=100, label=\"Herbivore\")\n",
    "    plt.hist(environmental_abundance[\"Presence\"], alpha=0.5, bins=100, label=\"Environmental\")\n",
    "    plt.hist(primary_abundance[\"Presence\"], alpha=0.5, bins=100, label=\"Primary Producer\")\n",
    "    plt.legend(loc=\"upper right\")\n",
    "    plt.savefig(f\"{figure_path}/presence_hist_all.png\")\n",
    "    plt.show()\n",
    "\n",
    "def all_presence_vs_abundance_scatter(abundance_table):\n",
    "    plt.figure()\n",
    "    plt.xlabel(\"Presence\")\n",
    "    plt.ylabel(\"Abundance\")\n",
    "    plt.title(f\"Presence vs Abundance by Trophic Level\")\n",
    "    plt.scatter(x=carnivore_abundance[\"Presence\"], y=carnivore_abundance[\"Abundance\"], label=\"Carnivore\")\n",
    "    plt.scatter(x=herbivore_abundance[\"Presence\"], y=herbivore_abundance[\"Abundance\"], label=\"Herbivore\")\n",
    "    plt.scatter(x=environmental_abundance[\"Presence\"], y=environmental_abundance[\"Abundance\"], label=\"Environmental\")\n",
    "    plt.scatter(x=primary_abundance[\"Presence\"], y=primary_abundance[\"Abundance\"], label=\"Primary Producer\")\n",
    "    plt.legend(loc=\"lower left\")\n",
    "    plt.savefig(f\"{figure_path}/presence_vs_abundance_scatter_all.png\")\n",
    "    plt.show()"
   ]
  },
  {
   "cell_type": "code",
   "execution_count": 82,
   "metadata": {},
   "outputs": [],
   "source": [
    "plt.close('all')"
   ]
  },
  {
   "cell_type": "code",
   "execution_count": 80,
   "metadata": {},
   "outputs": [],
   "source": [
    "# Abundance & Presence Plots\n",
    "def all_abundence_hist(abundance_table):\n",
    "    plt.figure()\n",
    "    plt.xlabel(\"Abundance\")\n",
    "    plt.ylabel(\"Samples\")\n",
    "    plt.title(f\"Abundance vs Samples\")\n",
    "    plt.hist(abundance_table[\"Abundance\"], bins=100)\n",
    "    plt.savefig(f\"{figure_path}/abundance_hist_everything.png\")\n",
    "    plt.show()\n",
    "\n",
    "def all_presence_hist(abundance_table):\n",
    "    plt.figure()\n",
    "    plt.xlabel(\"Presence\")\n",
    "    plt.ylabel(\"Samples\")\n",
    "    plt.title(f\"Presence vs Samples\")\n",
    "    plt.hist(abundance_table[\"Presence\"], bins=100)\n",
    "    plt.savefig(f\"{figure_path}/presence_hist_everything.png\")\n",
    "    plt.show()\n",
    "\n",
    "def all_presence_vs_abundance_scatter(abundance_table):\n",
    "    plt.figure()\n",
    "    plt.xlabel(\"Presence\")\n",
    "    plt.ylabel(\"Abundance\")\n",
    "    plt.title(f\"Presence vs Abundance\")\n",
    "    plt.scatter(x=abundance_table[\"Presence\"], y=abundance_table[\"Abundance\"])\n",
    "    plt.savefig(f\"{figure_path}/presence_vs_abundance_scatter_everything.png\")\n",
    "    plt.show()"
   ]
  },
  {
   "cell_type": "code",
   "execution_count": 81,
   "metadata": {},
   "outputs": [
    {
     "data": {
      "image/png": "[encoded data removed]",
      "text/plain": [
       "<Figure size 432x288 with 1 Axes>"
      ]
     },
     "metadata": {
      "needs_background": "light"
     },
     "output_type": "display_data"
    },
    {
     "data": {
      "image/png": "[encoded data removed]",
      "text/plain": [
       "<Figure size 432x288 with 1 Axes>"
      ]
     },
     "metadata": {
      "needs_background": "light"
     },
     "output_type": "display_data"
    },
    {
     "data": {
      "image/png": "[encoded data removed]",
      "text/plain": [
       "<Figure size 432x288 with 1 Axes>"
      ]
     },
     "metadata": {
      "needs_background": "light"
     },
     "output_type": "display_data"
    }
   ],
   "source": [
    "all_abundence_hist(abundance_table)\n",
    "all_presence_hist(abundance_table)\n",
    "all_presence_vs_abundance_scatter(abundance_table)"
   ]
  }
 ],
 "metadata": {
  "kernelspec": {
   "display_name": "Python 3",
   "language": "python",
   "name": "python3"
  },
  "language_info": {
   "codemirror_mode": {
    "name": "ipython",
    "version": 3
   },
   "file_extension": ".py",
   "mimetype": "text/x-python",
   "name": "python",
   "nbconvert_exporter": "python",
   "pygments_lexer": "ipython3",
   "version": "3.8.8"
  },
  "widgets": {
   "application/vnd.jupyter.widget-state+json": {
    "state": {},
    "version_major": 2,
    "version_minor": 0
   }
  }
 },
 "nbformat": 4,
 "nbformat_minor": 4
}
