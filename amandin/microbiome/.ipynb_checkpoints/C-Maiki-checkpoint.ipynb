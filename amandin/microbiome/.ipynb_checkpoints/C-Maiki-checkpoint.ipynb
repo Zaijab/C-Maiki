{
 "cells": [
  {
   "cell_type": "code",
   "execution_count": 1,
   "id": "a48fa672",
   "metadata": {},
   "outputs": [
    {
     "data": {
      "text/html": [
       "<div><h3 style=\"color: green;\">Preparing environment <tt>c-maiki</tt> with these packages:</h3><ul><li><tt>python 3.8.2</tt></li><li><tt>python-ipykernel 5.5.3</tt></li></ul></div>"
      ]
     },
     "execution_count": 1,
     "metadata": {},
     "output_type": "execute_result"
    },
    {
     "data": {
      "text/html": [
       "Done!"
      ]
     },
     "metadata": {},
     "output_type": "display_data"
    },
    {
     "data": {
      "text/html": [
       "<div>Running Python 3 kernel.</div>"
      ]
     },
     "execution_count": 0,
     "metadata": {},
     "output_type": "execute_result"
    }
   ],
   "source": [
    ";;guix  environment c-maiki <- python python-ipykernel"
   ]
  },
  {
   "cell_type": "code",
   "execution_count": 7,
   "id": "e9f5415c",
   "metadata": {},
   "outputs": [
    {
     "data": {
      "text/html": [
       "<bold>File <code>mm_16s_hiseqs_abundance_table.csv?token=AJTXLIEAE55NLHWVLVEII2LAVYL6A</code> from <a href=\"https://raw.githubusercontent.com/Zaijab/dotfiles/master/mm_16s_hiseqs_abundance_table.csv?token=AJTXLIEAE55NLHWVLVEII2LAVYL6A\">https://raw.githubusercontent.com/Zaijab/dotfiles/master/mm_16s_hiseqs_abundance_table.csv?token=AJTXLIEAE55NLHWVLVEII2LAVYL6A</a> is now available in environment <code>c-maiki</code>.</bold>"
      ]
     },
     "execution_count": 7,
     "metadata": {},
     "output_type": "execute_result"
    }
   ],
   "source": [
    ";;guix download  https://raw.githubusercontent.com/Zaijab/dotfiles/master/mm_16s_hiseqs_abundance_table.csv?token=AJTXLIEAE55NLHWVLVEII2LAVYL6A 844b9d98177c167a589c8a2cd217bede4de40cc16cfd45a7519f9ab035bfffc8"
   ]
  },
  {
   "cell_type": "code",
   "execution_count": 5,
   "id": "36da3154",
   "metadata": {},
   "outputs": [
    {
     "name": "stdout",
     "output_type": "stream",
     "text": [
      "mm_16s_hiseqs_abundance_table.csv?token=AJTXLIEAE55NLHWVLVEII2LAVYL6A\n",
      "history.sqlite\n",
      "history.sqlite-journal\n",
      "README\n"
     ]
    }
   ],
   "source": [
    "import os\n",
    "\n",
    "for root, dirs, files in os.walk(\".\"):\n",
    "    for filename in files:\n",
    "        print(filename)"
   ]
  }
 ],
 "metadata": {
  "kernelspec": {
   "display_name": "Guix",
   "language": "scheme",
   "name": "guix"
  },
  "language_info": {
   "codemirror_mode": "scheme",
   "file_extension": ".scm",
   "mimetype": "application/x-scheme",
   "name": "guile",
   "pygments_lexer": "scheme",
   "version": "3.0"
  }
 },
 "nbformat": 4,
 "nbformat_minor": 5
}
