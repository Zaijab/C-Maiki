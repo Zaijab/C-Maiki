{
 "cells": [
  {
   "cell_type": "code",
   "execution_count": 1,
   "metadata": {},
   "outputs": [],
   "source": [
    "%matplotlib ipympl\n",
    "\n",
    "from scipy.spatial.distance import pdist, squareform\n",
    "from scipy.sparse.linalg import eigs, eigsh\n",
    "import numpy as np\n",
    "import pandas as pd\n",
    "import matplotlib.pyplot as plt\n",
    "from mpl_toolkits.mplot3d import Axes3D"
   ]
  },
  {
   "cell_type": "code",
   "execution_count": 2,
   "metadata": {},
   "outputs": [],
   "source": [
    "# File Paths\n",
    "data_path = \"./data\"\n",
    "figure_path = \"./plots\"\n",
    "abundance_table_path = f\"{data_path}/abundance_table_97.shared\"\n",
    "metadata_path = f\"{data_path}/SuperTransect_mapping_file.csv\""
   ]
  },
  {
   "cell_type": "code",
   "execution_count": 3,
   "metadata": {},
   "outputs": [],
   "source": [
    "# Abundance Table\n",
    "with open(abundance_table_path, \"r\") as file_literal:\n",
    "    raw_abundance_data = [line.strip().split(\"\\t\") for line in file_literal]\n",
    "    otu_names = raw_abundance_data[0][3:]\n",
    "    sample_names = list(map(int, [line[1] for line in raw_abundance_data[1:]]))\n",
    "    otu_counts = [line[3:] for line in raw_abundance_data[1:]]\n",
    "abundance_table = pd.DataFrame(\n",
    "    np.array(otu_counts, dtype=np.int64),\n",
    "    index=sample_names,\n",
    "    columns=otu_names)\n",
    "abundance_table[\"Abundance\"] = abundance_table.sum(axis=1)\n",
    "abundance_table[\"Presence\"] = abundance_table.drop(\"Abundance\", axis=1).where(\n",
    "    abundance_table == 0, 1).sum(axis=1)\n",
    "\n",
    "# Metadata\n",
    "metadata = pd.read_csv(metadata_path, index_col=0)"
   ]
  },
  {
   "cell_type": "code",
   "execution_count": 57,
   "metadata": {},
   "outputs": [],
   "source": [
    "# Filtering Method\n",
    "mosquito_metadata = metadata.loc[metadata[\"sample_type\"] == \"Mosquito\"]\n",
    "mosquito_abundance = abundance_table.filter(\n",
    "    items=list(mosquito_metadata.index), axis=0).drop([\"Abundance\", \"Presence\"],axis=1).drop([105279, 105525, 105502, 105312, 105546], axis=0)\n",
    "mosquito_metadata = mosquito_metadata.loc[mosquito_abundance.index]"
   ]
  },
  {
   "cell_type": "code",
   "execution_count": 60,
   "metadata": {},
   "outputs": [],
   "source": [
    "# Filtering Method\n",
    "mosquito_metadata = metadata.loc[metadata[\"host\"] == \"Animal\"]\n",
    "mosquito_abundance = abundance_table.filter(\n",
    "    items=list(mosquito_metadata.index), axis=0).drop([\"Abundance\", \"Presence\"],axis=1)\n",
    "mosquito_metadata = mosquito_metadata.loc[mosquito_abundance.index]"
   ]
  },
  {
   "cell_type": "code",
   "execution_count": 55,
   "metadata": {},
   "outputs": [],
   "source": [
    "def abundance_to_eigenvector(filtered_abundance_table, debug=False):\n",
    "    adjacency_matrix = squareform(pdist(filtered_abundance_table, metric=\"minkowski\", p=1))\n",
    "    kernel = np.exp(- (adjacency_matrix ** 2) / (3000**2))\n",
    "    diagonal = np.diag(np.sum(kernel,axis=1))\n",
    "    laplacian = diagonal - kernel\n",
    "    eigenvalues, eigenvectors = eigs(laplacian, k=len(laplacian) - 1, M=diagonal)\n",
    "    sample_eigens = zip(eigenvalues.real, eigenvectors.T, filtered_abundance_table.index)\n",
    "    eigenvalues, eigenvectors, sample_ids = zip(*sorted(sample_eigens, key = lambda tup:tup[0]))\n",
    "\n",
    "    if debug:\n",
    "        print(\"Adjacency Matrix:\\n\", adjacency_matrix, \"\\n\")\n",
    "        print(\"Kernel:\\n\", kernel, \"\\n\")\n",
    "        print(\"Diagonal:\\n\", diagonal, \"\\n\")\n",
    "        print(\"Laplacian:\\n\", laplacian, \"\\n\")\n",
    "        print(\"Eigenvalues:\\n\", eigenvalues, \"\\n\")\n",
    "        print(\"Eigenvectors:\\n\", eigenvectors, \"\\n\")\n",
    "        print(\"Sample ID's:\\n\", sample_ids, \"\\n\")\n",
    "        \n",
    "    return eigenvectors, filtered_abundance_table.index\n",
    "\n",
    "def eigenvector_to_plot(eigenvectors, text, title):\n",
    "    fig = plt.figure()\n",
    "    ax = fig.add_subplot(111, projection='3d')\n",
    "    ax.set_xlabel('X axis')\n",
    "    ax.set_ylabel('Y axis')\n",
    "    ax.set_zlabel('Z axis')\n",
    "    ax.scatter3D(eigenvectors[1], eigenvectors[2], eigenvectors[3])\n",
    "    #for label, x, y, z in zip(text, eigenvectors[1], eigenvectors[2], eigenvectors[3]):\n",
    "    #    ax.text(x, y, z, label, None)\n",
    "    plt.title(title)\n",
    "    plt.show()"
   ]
  },
  {
   "cell_type": "code",
   "execution_count": 56,
   "metadata": {},
   "outputs": [
    {
     "name": "stderr",
     "output_type": "stream",
     "text": [
      "/home/zjabbar/.local/lib/python3.8/site-packages/scipy/sparse/linalg/eigen/arpack/arpack.py:1267: RuntimeWarning: k >= N - 1 for N * N square matrix. Attempting to use scipy.linalg.eig instead.\n",
      "  warnings.warn(\"k >= N - 1 for N * N square matrix. \"\n"
     ]
    },
    {
     "data": {
      "application/vnd.jupyter.widget-view+json": {
       "model_id": "476ed95cb1a64b5189d86e6efe909dc2",
       "version_major": 2,
       "version_minor": 0
      },
      "text/plain": [
       "Canvas(toolbar=Toolbar(toolitems=[('Home', 'Reset original view', 'home', 'home'), ('Back', 'Back to previous …"
      ]
     },
     "metadata": {},
     "output_type": "display_data"
    }
   ],
   "source": [
    "eigenvector_to_plot(*abundance_to_eigenvector(mosquito_abundance), \"Mosquito Generalized Eigenvalue Dropped None\")"
   ]
  },
  {
   "cell_type": "code",
   "execution_count": 53,
   "metadata": {},
   "outputs": [
    {
     "name": "stderr",
     "output_type": "stream",
     "text": [
      "/home/zjabbar/.local/lib/python3.8/site-packages/scipy/sparse/linalg/eigen/arpack/arpack.py:1267: RuntimeWarning: k >= N - 1 for N * N square matrix. Attempting to use scipy.linalg.eig instead.\n",
      "  warnings.warn(\"k >= N - 1 for N * N square matrix. \"\n"
     ]
    },
    {
     "data": {
      "application/vnd.jupyter.widget-view+json": {
       "model_id": "60d6989615a449eebf01c5dfb4b6f4c5",
       "version_major": 2,
       "version_minor": 0
      },
      "text/plain": [
       "Canvas(toolbar=Toolbar(toolitems=[('Home', 'Reset original view', 'home', 'home'), ('Back', 'Back to previous …"
      ]
     },
     "metadata": {},
     "output_type": "display_data"
    }
   ],
   "source": [
    "eigenvector_to_plot(*abundance_to_eigenvector(mosquito_abundance), \"Mosquito Generalized Eigenvalue Dropped 3\")"
   ]
  },
  {
   "cell_type": "code",
   "execution_count": 58,
   "metadata": {},
   "outputs": [
    {
     "name": "stderr",
     "output_type": "stream",
     "text": [
      "/home/zjabbar/.local/lib/python3.8/site-packages/scipy/sparse/linalg/eigen/arpack/arpack.py:1267: RuntimeWarning: k >= N - 1 for N * N square matrix. Attempting to use scipy.linalg.eig instead.\n",
      "  warnings.warn(\"k >= N - 1 for N * N square matrix. \"\n"
     ]
    },
    {
     "data": {
      "application/vnd.jupyter.widget-view+json": {
       "model_id": "c7e698db55fd4e67bcdca690b20dd95f",
       "version_major": 2,
       "version_minor": 0
      },
      "text/plain": [
       "Canvas(toolbar=Toolbar(toolitems=[('Home', 'Reset original view', 'home', 'home'), ('Back', 'Back to previous …"
      ]
     },
     "metadata": {},
     "output_type": "display_data"
    }
   ],
   "source": [
    "eigenvector_to_plot(*abundance_to_eigenvector(mosquito_abundance), \"Mosquito Generalized Eigenvalue Dropped 5\")"
   ]
  },
  {
   "cell_type": "code",
   "execution_count": 63,
   "metadata": {},
   "outputs": [
    {
     "name": "stderr",
     "output_type": "stream",
     "text": [
      "/home/zjabbar/.local/lib/python3.8/site-packages/scipy/sparse/linalg/eigen/arpack/arpack.py:1267: RuntimeWarning: k >= N - 1 for N * N square matrix. Attempting to use scipy.linalg.eig instead.\n",
      "  warnings.warn(\"k >= N - 1 for N * N square matrix. \"\n"
     ]
    },
    {
     "data": {
      "application/vnd.jupyter.widget-view+json": {
       "model_id": "ba24b6f67af24228b4c55fe3e8406ede",
       "version_major": 2,
       "version_minor": 0
      },
      "text/plain": [
       "Canvas(toolbar=Toolbar(toolitems=[('Home', 'Reset original view', 'home', 'home'), ('Back', 'Back to previous …"
      ]
     },
     "metadata": {},
     "output_type": "display_data"
    }
   ],
   "source": [
    "eigenvector_to_plot(*abundance_to_eigenvector(mosquito_abundance), \"Animal Generalized Eigenvalue\")"
   ]
  }
 ],
 "metadata": {
  "kernelspec": {
   "display_name": "Python 3",
   "language": "python",
   "name": "python3"
  },
  "language_info": {
   "codemirror_mode": {
    "name": "ipython",
    "version": 3
   },
   "file_extension": ".py",
   "mimetype": "text/x-python",
   "name": "python",
   "nbconvert_exporter": "python",
   "pygments_lexer": "ipython3",
   "version": "3.8.3"
  }
 },
 "nbformat": 4,
 "nbformat_minor": 4
}
