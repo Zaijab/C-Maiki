{
 "cells": [
  {
   "cell_type": "code",
   "execution_count": 4,
   "id": "17724eda",
   "metadata": {},
   "outputs": [
    {
     "name": "stderr",
     "output_type": "stream",
     "text": [
      "Installing package into ‘/home/zjabbar/R/x86_64-unknown-linux-gnu-library/4.0’\n",
      "(as ‘lib’ is unspecified)\n",
      "\n",
      "Installing package into ‘/home/zjabbar/R/x86_64-unknown-linux-gnu-library/4.0’\n",
      "(as ‘lib’ is unspecified)\n",
      "\n"
     ]
    }
   ],
   "source": [
    "install.packages(\"bipartite\")\n",
    "install.packages(\"falcon\")\n",
    "library(\"bipartite\")\n",
    "library(\"falcon\")"
   ]
  },
  {
   "cell_type": "code",
   "execution_count": 28,
   "id": "9dc2a6f8",
   "metadata": {},
   "outputs": [
    {
     "name": "stderr",
     "output_type": "stream",
     "text": [
      "Warning message in file(filename, \"r\", encoding = encoding):\n",
      "“cannot open file 'FALCON/R/FPERFORM_NESTED_TEST.R': No such file or directory”\n"
     ]
    },
    {
     "ename": "ERROR",
     "evalue": "Error in file(filename, \"r\", encoding = encoding): cannot open the connection\n",
     "output_type": "error",
     "traceback": [
      "Error in file(filename, \"r\", encoding = encoding): cannot open the connection\nTraceback:\n",
      "1. source(\"FALCON/R/FPERFORM_NESTED_TEST.R\")",
      "2. file(filename, \"r\", encoding = encoding)"
     ]
    }
   ],
   "source": [
    "library(\"falcon\")\n",
    "source(\"/gnu/store/5c1cfh2w71697mixbzbamy5cqnf6166b-profile/site-library/\")\n",
    "source(\"FALCON/R/FPERFORM_NESTED_TEST.R\")"
   ]
  },
  {
   "cell_type": "code",
   "execution_count": 30,
   "id": "f644d5f6",
   "metadata": {},
   "outputs": [
    {
     "data": {
      "text/html": [
       "<style>\n",
       ".list-inline {list-style: none; margin:0; padding: 0}\n",
       ".list-inline>li {display: inline-block}\n",
       ".list-inline>li:not(:last-child)::after {content: \"\\00b7\"; padding: 0 .5ex}\n",
       "</style>\n",
       "<ol class=list-inline><li>'/home/zjabbar/R/x86_64-unknown-linux-gnu-library/4.0'</li><li>'/gnu/store/5c1cfh2w71697mixbzbamy5cqnf6166b-profile/site-library'</li><li>'/gnu/store/p10ghsgvv4m283pk8xj7b18cybd4c66k-r-minimal-4.0.4/lib/R/library'</li></ol>\n"
      ],
      "text/latex": [
       "\\begin{enumerate*}\n",
       "\\item '/home/zjabbar/R/x86\\_64-unknown-linux-gnu-library/4.0'\n",
       "\\item '/gnu/store/5c1cfh2w71697mixbzbamy5cqnf6166b-profile/site-library'\n",
       "\\item '/gnu/store/p10ghsgvv4m283pk8xj7b18cybd4c66k-r-minimal-4.0.4/lib/R/library'\n",
       "\\end{enumerate*}\n"
      ],
      "text/markdown": [
       "1. '/home/zjabbar/R/x86_64-unknown-linux-gnu-library/4.0'\n",
       "2. '/gnu/store/5c1cfh2w71697mixbzbamy5cqnf6166b-profile/site-library'\n",
       "3. '/gnu/store/p10ghsgvv4m283pk8xj7b18cybd4c66k-r-minimal-4.0.4/lib/R/library'\n",
       "\n",
       "\n"
      ],
      "text/plain": [
       "[1] \"/home/zjabbar/R/x86_64-unknown-linux-gnu-library/4.0\"                     \n",
       "[2] \"/gnu/store/5c1cfh2w71697mixbzbamy5cqnf6166b-profile/site-library\"         \n",
       "[3] \"/gnu/store/p10ghsgvv4m283pk8xj7b18cybd4c66k-r-minimal-4.0.4/lib/R/library\""
      ]
     },
     "metadata": {},
     "output_type": "display_data"
    }
   ],
   "source": [
    ".libPaths()"
   ]
  },
  {
   "cell_type": "code",
   "execution_count": 3,
   "id": "1774ed89",
   "metadata": {},
   "outputs": [],
   "source": [
    "data = read.csv(\"~/dwn//out (1).csv\", row.names = 1)"
   ]
  },
  {
   "cell_type": "code",
   "execution_count": 1,
   "id": "ae10b39f",
   "metadata": {},
   "outputs": [
    {
     "ename": "ERROR",
     "evalue": "Error in visweb(data): could not find function \"visweb\"\n",
     "output_type": "error",
     "traceback": [
      "Error in visweb(data): could not find function \"visweb\"\nTraceback:\n"
     ]
    }
   ],
   "source": [
    "visweb(data)"
   ]
  },
  {
   "cell_type": "code",
   "execution_count": 24,
   "id": "eb0c2234",
   "metadata": {},
   "outputs": [
    {
     "ename": "ERROR",
     "evalue": "Error in eval(expr, envir, enclos): object 'PERFORM_NESTED_TEST' not found\n",
     "output_type": "error",
     "traceback": [
      "Error in eval(expr, envir, enclos): object 'PERFORM_NESTED_TEST' not found\nTraceback:\n"
     ]
    }
   ],
   "source": [
    "PERFORM_NESTED_TEST"
   ]
  },
  {
   "cell_type": "code",
   "execution_count": 27,
   "id": "ec7b1b47",
   "metadata": {},
   "outputs": [
    {
     "name": "stdout",
     "output_type": "stream",
     "text": [
      "[1] \"Binary = 1\"\n",
      "[1] \"Sorting = 1\"\n",
      "[1] \"Measures = NODF\"\n",
      "[1] \"Nulls = All\"\n",
      "[1] \"EnsembleNumber = 1\"\n",
      "[1] \"Plotting = 1\"\n"
     ]
    },
    {
     "ename": "ERROR",
     "evalue": "Error in if (file == \"\") {: missing value where TRUE/FALSE needed\n",
     "output_type": "error",
     "traceback": [
      "Error in if (file == \"\") {: missing value where TRUE/FALSE needed\nTraceback:\n",
      "1. PERFORM_NESTED_TEST(data, 1, 1, \"NODF\", c(), 1)",
      "2. source(file.sources[i])   # at line 46 of file <text>"
     ]
    }
   ],
   "source": [
    "output = PERFORM_NESTED_TEST(data,1,1,\"NODF\", c(), 1)"
   ]
  }
 ],
 "metadata": {
  "kernelspec": {
   "display_name": "R",
   "language": "R",
   "name": "ir"
  },
  "language_info": {
   "codemirror_mode": "r",
   "file_extension": ".r",
   "mimetype": "text/x-r-source",
   "name": "R",
   "pygments_lexer": "r",
   "version": "4.0.4"
  }
 },
 "nbformat": 4,
 "nbformat_minor": 5
}
